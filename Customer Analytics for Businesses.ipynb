{
 "cells": [
  {
   "cell_type": "markdown",
   "metadata": {},
   "source": [
    "## Customer Analytics for Businesses"
   ]
  },
  {
   "cell_type": "markdown",
   "metadata": {},
   "source": [
    "### Section 1 - Introduction\n",
    "\n",
    "- Customers are the primary source of income for any business.\n",
    "- Almost all avenues for maximizing revenue and minimizing costs in a business is directly related to customers.\n",
    "- Elevating customer experience and satisfaction should be a prime concern for any business.\n",
    "- A business should learn how to meet and exceed primary needs of its customer.\n",
    "- Customer Analytics is a means for understanding the customer in order to do so.\n",
    "- In customer analytics, customer data is analyzed in order to gain insights about the customer and their needs.\n",
    "- It helps businesses measure and improve their products/services consistently so as to cater to the changing needs of their customers.\n",
    "- It also provides a means to analyze what methods/channels of customer acquisition and retention are working and what is not.\n",
    "- Having a track of such metrics as a whole gives a business a much needed edge over competing businesses in order to maximize profit.\n",
    "\n",
    "#### Advantages of using customer analytics for businesses:\n",
    "##### Drive Customer Acquisition\n",
    "* Helps focus on channels that drive the most new customers.\n",
    "* Helps to understand the most common customer journey from awareness to advocacy.\n",
    "\n",
    "##### Improve Engagement\n",
    "* Helps to identify what type of feature resonates with which type of customer.\n",
    "* Helps to identify the most loved feature in order to cater an elevated experience for the customer.\n",
    "\n",
    "##### Increase Revenue\n",
    "* Helps to gain an insight about the most popular revenue channels.\n",
    "- Helps to predict the most profitable customers for a business\n",
    "\n",
    "##### Improve Retention\n",
    "* Helps to understand the reasons behind the loss of new/regular customers.\n",
    "* Helps to identify the behaviours needed to improve retention of customers."
   ]
  },
  {
   "cell_type": "markdown",
   "metadata": {},
   "source": [
    "#### Section 2 - Getting started with customer analytics\n",
    "##### 4. Understanding Customer Data\n",
    "- Knowing about what data to collect and use will help in interpreting the data for maximum benefits.\n",
    "\n",
    "- In Customer Analytics, we work with mainly two types of data: Quantitative and Qualitative\n",
    "\n",
    "###### Quantitative Data\n",
    "- Data in the form of numbers and counts\n",
    "- This data can be used for numerical operations, mathematical calculations, and statistical analysis.\n",
    "- Can be further classified into: Discrete and Continuous values.\n",
    "- Discrete values are metircs that are finite and countable. Foe instance, the number of customers signups, the number of product reviews, etc. are the examples of discrete values.\n",
    "- Continuous values are metrics that are not finite and range between certain values. For instance, the time taken by a customer to checkout after adding to cart is an example of a continuous value. e.g.4.5608... seconds.\n",
    "\n",
    "###### Qualitative Data\n",
    "- It can be defined as the data that can be described but not measured.\n",
    "- It can be observed and recorded and is non-numerical in nature.\n",
    "- It is also known as nominal or categorical data as this data can be grouped according to categories.\n",
    "- For instance, product reviews given by customers (good/bad/neutral) is an example of qualitative data.\n",
    "- Qualitative data helps bridge the gap between insights recorded from a quantitative analysis.\n",
    "- With these insights, we can gian an in-depth understanding of the 'why', that is, the underlying reasons and motivations for certain actions of the customers."
   ]
  },
  {
   "cell_type": "markdown",
   "metadata": {},
   "source": [
    "##### 5. Identifying what data to collect\n",
    "- Based on the information being collected, customer data can be broadly categorized as,\n",
    "    - Descriptive\n",
    "    - Behavioral\n",
    "    - Interaction\n",
    "    - Psychological\n",
    "    \n",
    "- Descriptive data is based on demographics such as age, gender, geography, and income.\n",
    "- Behavioral data is based on behaviors exhibited while browsing, making purchases, registering, etc.\n",
    "- Interaction data is based on actions such as clicks, navigation paths, and browsing activities.\n",
    "- Psychological data is based on preferences, personality, reviews and interests.\n",
    "\n",
    "- Some of the common mistakes people make in collecting data for customer analytics include,\n",
    "    - Creating lengthy sign-up forms.\n",
    "    - Making extended checkout processes.\n",
    "    - Trying to monitor every action of the customer, for collecting as much data as possible.\n",
    "\n",
    "- This hampers customer experiences badly and can even lead to a violation of customer trust and privacy.\n",
    "- So, it is important to understand how you can start collecting the right data for your business from the right sources.\n",
    "- Each and every data point you collect should be directed towards measuring the factors that determine customer value, such as,\n",
    "    - Customer Experience,\n",
    "    - Loyalty, and\n",
    "    - Revenue\n",
    "    \n",
    "- If done properly, the data you collect for analysis should help in,\n",
    "    - Identifying problem areas,\n",
    "    - Tracking improvements over time, and\n",
    "    - Highlighting meaningful actions towards better customer experience and management."
   ]
  },
  {
   "cell_type": "markdown",
   "metadata": {},
   "source": [
    "##### 6. How to analyze customer data\n",
    "- Analysis of customer data is primarily focused towards making better business decisions.\n",
    "- Qualitative data is comparitively harder to analyze than quantitative data as it tends to be subjective and varies from person-to-person.\n",
    "\n",
    "- Irrespective of the data type, the complexity of the analysis is mostly dependent on the methods used and the amount of data collected.\n",
    "- Therefore, implementation of customer analytics methods largely very depending on the type of service, data, and business goals.\n",
    "\n",
    "- Generally, customers can be analyzed in four different methods based on the type of analysis:\n",
    "    - Descriptive Analytics\n",
    "    - Diagnostic Analytics\n",
    "    - Predictive Analytics\n",
    "    - Prescriptive Analytics"
   ]
  },
  {
   "cell_type": "markdown",
   "metadata": {},
   "source": [
    "##### 7. Using Transactional Datasets for Customer Analytics\n",
    "\n",
    "Transactional datasets are one of the most common customer datasets available to all businesses. Such datasets hold information about the purchases history of customers including the amount, frequency, and date of purchases.\n",
    "\n",
    "In this lesson, we will be looking at a transactional dataset from an online retail store and our goal with this lesson is to clean this dataset and make it ready for performing customer analytics.\n",
    "\n",
    "The dataset contains the following information:\n",
    "- CustomerID\n",
    "- InvoiceNo\n",
    "- AmountSpent\n",
    "- InvoiceDate\n",
    "- Country"
   ]
  },
  {
   "cell_type": "code",
   "execution_count": null,
   "metadata": {},
   "outputs": [],
   "source": [
    "# !pip install numpy pandas matplotlib"
   ]
  },
  {
   "cell_type": "markdown",
   "metadata": {},
   "source": [
    "Let us import the necessary libraries."
   ]
  },
  {
   "cell_type": "code",
   "execution_count": 1,
   "metadata": {},
   "outputs": [],
   "source": [
    "import pandas as pd"
   ]
  },
  {
   "cell_type": "code",
   "execution_count": 4,
   "metadata": {},
   "outputs": [
    {
     "data": {
      "text/html": [
       "<div>\n",
       "<style scoped>\n",
       "    .dataframe tbody tr th:only-of-type {\n",
       "        vertical-align: middle;\n",
       "    }\n",
       "\n",
       "    .dataframe tbody tr th {\n",
       "        vertical-align: top;\n",
       "    }\n",
       "\n",
       "    .dataframe thead th {\n",
       "        text-align: right;\n",
       "    }\n",
       "</style>\n",
       "<table border=\"1\" class=\"dataframe\">\n",
       "  <thead>\n",
       "    <tr style=\"text-align: right;\">\n",
       "      <th></th>\n",
       "      <th>CustomerID</th>\n",
       "      <th>InvoiceNo</th>\n",
       "      <th>AmountSpent</th>\n",
       "      <th>InvoiceDate</th>\n",
       "      <th>Country</th>\n",
       "    </tr>\n",
       "  </thead>\n",
       "  <tbody>\n",
       "    <tr>\n",
       "      <td>0</td>\n",
       "      <td>17850.0</td>\n",
       "      <td>536365</td>\n",
       "      <td>15.30</td>\n",
       "      <td>12/1/2010 8:26</td>\n",
       "      <td>United Kingdom</td>\n",
       "    </tr>\n",
       "    <tr>\n",
       "      <td>1</td>\n",
       "      <td>17850.0</td>\n",
       "      <td>536365</td>\n",
       "      <td>20.34</td>\n",
       "      <td>12/1/2010 8:26</td>\n",
       "      <td>United Kingdom</td>\n",
       "    </tr>\n",
       "    <tr>\n",
       "      <td>2</td>\n",
       "      <td>17850.0</td>\n",
       "      <td>536365</td>\n",
       "      <td>22.00</td>\n",
       "      <td>12/1/2010 8:26</td>\n",
       "      <td>United Kingdom</td>\n",
       "    </tr>\n",
       "    <tr>\n",
       "      <td>3</td>\n",
       "      <td>17850.0</td>\n",
       "      <td>536365</td>\n",
       "      <td>20.34</td>\n",
       "      <td>12/1/2010 8:26</td>\n",
       "      <td>United Kingdom</td>\n",
       "    </tr>\n",
       "    <tr>\n",
       "      <td>4</td>\n",
       "      <td>17850.0</td>\n",
       "      <td>536365</td>\n",
       "      <td>20.34</td>\n",
       "      <td>12/1/2010 8:26</td>\n",
       "      <td>United Kingdom</td>\n",
       "    </tr>\n",
       "  </tbody>\n",
       "</table>\n",
       "</div>"
      ],
      "text/plain": [
       "   CustomerID InvoiceNo  AmountSpent     InvoiceDate         Country\n",
       "0     17850.0    536365        15.30  12/1/2010 8:26  United Kingdom\n",
       "1     17850.0    536365        20.34  12/1/2010 8:26  United Kingdom\n",
       "2     17850.0    536365        22.00  12/1/2010 8:26  United Kingdom\n",
       "3     17850.0    536365        20.34  12/1/2010 8:26  United Kingdom\n",
       "4     17850.0    536365        20.34  12/1/2010 8:26  United Kingdom"
      ]
     },
     "execution_count": 4,
     "metadata": {},
     "output_type": "execute_result"
    }
   ],
   "source": [
    "# Read the CSV data as a Pandas DataFrame\n",
    "transaction_df = pd.read_csv('data/transaction_dataset.csv',low_memory=False)\n",
    "\n",
    "# Looking at the first five rows\n",
    "transaction_df.head()"
   ]
  },
  {
   "cell_type": "code",
   "execution_count": 5,
   "metadata": {},
   "outputs": [
    {
     "data": {
      "text/plain": [
       "(541908, 5)"
      ]
     },
     "execution_count": 5,
     "metadata": {},
     "output_type": "execute_result"
    }
   ],
   "source": [
    "transaction_df.shape"
   ]
  },
  {
   "cell_type": "markdown",
   "metadata": {},
   "source": [
    "As a first step, we should always clean a dataset before performing customer analytics.\n",
    "\n",
    "Data Cleaning processes differ from one dataset to the other dataset but the general idea is the same, that is, we are trying to ensure that the data is verified and validated before any insights are generated from it.\n",
    "\n",
    "Let's start by checking if the DataFrame has any null values in it."
   ]
  },
  {
   "cell_type": "code",
   "execution_count": 6,
   "metadata": {},
   "outputs": [
    {
     "data": {
      "text/plain": [
       "CustomerID     135080\n",
       "InvoiceNo           0\n",
       "AmountSpent         0\n",
       "InvoiceDate         0\n",
       "Country             0\n",
       "dtype: int64"
      ]
     },
     "execution_count": 6,
     "metadata": {},
     "output_type": "execute_result"
    }
   ],
   "source": [
    "# Checking for null values\n",
    "transaction_df.isnull().sum()"
   ]
  },
  {
   "cell_type": "markdown",
   "metadata": {},
   "source": [
    "There are two ways to handle such null values. We can either remove the data rows containing the null values of we can fill the null values with some statistical value using the mean, max, etc. of the column.\n",
    "\n",
    "In this case, CustomerID represents the individuality of a customer. Filling it is not a good idea since we can not guess which customer made the purchase in the transactional dataset.\n",
    "\n",
    "So, let us drop all the data rows containing null values."
   ]
  },
  {
   "cell_type": "code",
   "execution_count": 7,
   "metadata": {},
   "outputs": [],
   "source": [
    "# Dropping null values\n",
    "transaction_df.dropna(inplace=True)"
   ]
  },
  {
   "cell_type": "code",
   "execution_count": 8,
   "metadata": {},
   "outputs": [
    {
     "data": {
      "text/plain": [
       "CustomerID     0\n",
       "InvoiceNo      0\n",
       "AmountSpent    0\n",
       "InvoiceDate    0\n",
       "Country        0\n",
       "dtype: int64"
      ]
     },
     "execution_count": 8,
     "metadata": {},
     "output_type": "execute_result"
    }
   ],
   "source": [
    "# Checking for null values\n",
    "transaction_df.isnull().sum()"
   ]
  },
  {
   "cell_type": "markdown",
   "metadata": {},
   "source": [
    "Hence, we've successfully handled the missing values. Next, let us look at the data types of the various columns in the dataset."
   ]
  },
  {
   "cell_type": "code",
   "execution_count": 9,
   "metadata": {},
   "outputs": [
    {
     "name": "stdout",
     "output_type": "stream",
     "text": [
      "<class 'pandas.core.frame.DataFrame'>\n",
      "Int64Index: 406828 entries, 0 to 541907\n",
      "Data columns (total 5 columns):\n",
      "CustomerID     406828 non-null float64\n",
      "InvoiceNo      406828 non-null object\n",
      "AmountSpent    406828 non-null float64\n",
      "InvoiceDate    406828 non-null object\n",
      "Country        406828 non-null object\n",
      "dtypes: float64(2), object(3)\n",
      "memory usage: 18.6+ MB\n"
     ]
    }
   ],
   "source": [
    "# Printing a concise summary of the DataFrame\n",
    "transaction_df.info()"
   ]
  },
  {
   "cell_type": "markdown",
   "metadata": {},
   "source": [
    "There are three columns with the data type as object. Let us convert them to their appropriate data type. Here, CustomerID is being stored as a float value even though it is always an integer."
   ]
  },
  {
   "cell_type": "code",
   "execution_count": 10,
   "metadata": {},
   "outputs": [],
   "source": [
    "# Converting InvoiceNo from object to integer\n",
    "transaction_df['InvoiceNo'] = transaction_df['InvoiceNo'].astype(int)\n",
    "\n",
    "# Converting InvoiceDate from object to datetime\n",
    "transaction_df['InvoiceDate'] = pd.to_datetime(transaction_df['InvoiceDate'])\n",
    "\n",
    "# Converting Country from object to string\n",
    "transaction_df['Country'] = transaction_df['Country'].astype(str)"
   ]
  },
  {
   "cell_type": "markdown",
   "metadata": {},
   "source": [
    " The CustomerID column is currently holding values as float even though the data values are integer numbers. Let us convert its data type from float to integer as well."
   ]
  },
  {
   "cell_type": "code",
   "execution_count": 11,
   "metadata": {},
   "outputs": [],
   "source": [
    "# Converting CustomerID from float to integer\n",
    "transaction_df['CustomerID'] = transaction_df['CustomerID'].astype(int)"
   ]
  },
  {
   "cell_type": "code",
   "execution_count": 12,
   "metadata": {},
   "outputs": [
    {
     "data": {
      "text/html": [
       "<div>\n",
       "<style scoped>\n",
       "    .dataframe tbody tr th:only-of-type {\n",
       "        vertical-align: middle;\n",
       "    }\n",
       "\n",
       "    .dataframe tbody tr th {\n",
       "        vertical-align: top;\n",
       "    }\n",
       "\n",
       "    .dataframe thead th {\n",
       "        text-align: right;\n",
       "    }\n",
       "</style>\n",
       "<table border=\"1\" class=\"dataframe\">\n",
       "  <thead>\n",
       "    <tr style=\"text-align: right;\">\n",
       "      <th></th>\n",
       "      <th>CustomerID</th>\n",
       "      <th>InvoiceNo</th>\n",
       "      <th>AmountSpent</th>\n",
       "      <th>InvoiceDate</th>\n",
       "      <th>Country</th>\n",
       "    </tr>\n",
       "  </thead>\n",
       "  <tbody>\n",
       "    <tr>\n",
       "      <td>0</td>\n",
       "      <td>17850</td>\n",
       "      <td>536365</td>\n",
       "      <td>15.30</td>\n",
       "      <td>2010-12-01 08:26:00</td>\n",
       "      <td>United Kingdom</td>\n",
       "    </tr>\n",
       "    <tr>\n",
       "      <td>1</td>\n",
       "      <td>17850</td>\n",
       "      <td>536365</td>\n",
       "      <td>20.34</td>\n",
       "      <td>2010-12-01 08:26:00</td>\n",
       "      <td>United Kingdom</td>\n",
       "    </tr>\n",
       "    <tr>\n",
       "      <td>2</td>\n",
       "      <td>17850</td>\n",
       "      <td>536365</td>\n",
       "      <td>22.00</td>\n",
       "      <td>2010-12-01 08:26:00</td>\n",
       "      <td>United Kingdom</td>\n",
       "    </tr>\n",
       "    <tr>\n",
       "      <td>3</td>\n",
       "      <td>17850</td>\n",
       "      <td>536365</td>\n",
       "      <td>20.34</td>\n",
       "      <td>2010-12-01 08:26:00</td>\n",
       "      <td>United Kingdom</td>\n",
       "    </tr>\n",
       "    <tr>\n",
       "      <td>4</td>\n",
       "      <td>17850</td>\n",
       "      <td>536365</td>\n",
       "      <td>20.34</td>\n",
       "      <td>2010-12-01 08:26:00</td>\n",
       "      <td>United Kingdom</td>\n",
       "    </tr>\n",
       "  </tbody>\n",
       "</table>\n",
       "</div>"
      ],
      "text/plain": [
       "   CustomerID  InvoiceNo  AmountSpent         InvoiceDate         Country\n",
       "0       17850     536365        15.30 2010-12-01 08:26:00  United Kingdom\n",
       "1       17850     536365        20.34 2010-12-01 08:26:00  United Kingdom\n",
       "2       17850     536365        22.00 2010-12-01 08:26:00  United Kingdom\n",
       "3       17850     536365        20.34 2010-12-01 08:26:00  United Kingdom\n",
       "4       17850     536365        20.34 2010-12-01 08:26:00  United Kingdom"
      ]
     },
     "execution_count": 12,
     "metadata": {},
     "output_type": "execute_result"
    }
   ],
   "source": [
    "transaction_df.head()"
   ]
  },
  {
   "cell_type": "code",
   "execution_count": 13,
   "metadata": {},
   "outputs": [
    {
     "data": {
      "text/plain": [
       "CustomerID              int32\n",
       "InvoiceNo               int32\n",
       "AmountSpent           float64\n",
       "InvoiceDate    datetime64[ns]\n",
       "Country                object\n",
       "dtype: object"
      ]
     },
     "execution_count": 13,
     "metadata": {},
     "output_type": "execute_result"
    }
   ],
   "source": [
    "transaction_df.dtypes"
   ]
  },
  {
   "cell_type": "markdown",
   "metadata": {},
   "source": [
    "Finally, let us check if all the numeric values in the dataset are proper or not."
   ]
  },
  {
   "cell_type": "code",
   "execution_count": 14,
   "metadata": {},
   "outputs": [
    {
     "data": {
      "text/html": [
       "<div>\n",
       "<style scoped>\n",
       "    .dataframe tbody tr th:only-of-type {\n",
       "        vertical-align: middle;\n",
       "    }\n",
       "\n",
       "    .dataframe tbody tr th {\n",
       "        vertical-align: top;\n",
       "    }\n",
       "\n",
       "    .dataframe thead th {\n",
       "        text-align: right;\n",
       "    }\n",
       "</style>\n",
       "<table border=\"1\" class=\"dataframe\">\n",
       "  <thead>\n",
       "    <tr style=\"text-align: right;\">\n",
       "      <th></th>\n",
       "      <th>CustomerID</th>\n",
       "      <th>InvoiceNo</th>\n",
       "      <th>AmountSpent</th>\n",
       "    </tr>\n",
       "  </thead>\n",
       "  <tbody>\n",
       "    <tr>\n",
       "      <td>count</td>\n",
       "      <td>406828.000000</td>\n",
       "      <td>406828.000000</td>\n",
       "      <td>406828.000000</td>\n",
       "    </tr>\n",
       "    <tr>\n",
       "      <td>mean</td>\n",
       "      <td>15287.694552</td>\n",
       "      <td>560581.737412</td>\n",
       "      <td>20.401913</td>\n",
       "    </tr>\n",
       "    <tr>\n",
       "      <td>std</td>\n",
       "      <td>1713.600528</td>\n",
       "      <td>13105.458755</td>\n",
       "      <td>427.592241</td>\n",
       "    </tr>\n",
       "    <tr>\n",
       "      <td>min</td>\n",
       "      <td>12346.000000</td>\n",
       "      <td>536365.000000</td>\n",
       "      <td>-168469.600000</td>\n",
       "    </tr>\n",
       "    <tr>\n",
       "      <td>25%</td>\n",
       "      <td>13953.000000</td>\n",
       "      <td>549130.000000</td>\n",
       "      <td>4.200000</td>\n",
       "    </tr>\n",
       "    <tr>\n",
       "      <td>50%</td>\n",
       "      <td>15152.000000</td>\n",
       "      <td>561873.000000</td>\n",
       "      <td>11.100000</td>\n",
       "    </tr>\n",
       "    <tr>\n",
       "      <td>75%</td>\n",
       "      <td>16791.000000</td>\n",
       "      <td>572065.000000</td>\n",
       "      <td>19.500000</td>\n",
       "    </tr>\n",
       "    <tr>\n",
       "      <td>max</td>\n",
       "      <td>18287.000000</td>\n",
       "      <td>581587.000000</td>\n",
       "      <td>168469.600000</td>\n",
       "    </tr>\n",
       "  </tbody>\n",
       "</table>\n",
       "</div>"
      ],
      "text/plain": [
       "          CustomerID      InvoiceNo    AmountSpent\n",
       "count  406828.000000  406828.000000  406828.000000\n",
       "mean    15287.694552  560581.737412      20.401913\n",
       "std      1713.600528   13105.458755     427.592241\n",
       "min     12346.000000  536365.000000 -168469.600000\n",
       "25%     13953.000000  549130.000000       4.200000\n",
       "50%     15152.000000  561873.000000      11.100000\n",
       "75%     16791.000000  572065.000000      19.500000\n",
       "max     18287.000000  581587.000000  168469.600000"
      ]
     },
     "execution_count": 14,
     "metadata": {},
     "output_type": "execute_result"
    }
   ],
   "source": [
    "# Getting a statistical description of the dataset\n",
    "transaction_df.describe()"
   ]
  },
  {
   "cell_type": "markdown",
   "metadata": {},
   "source": [
    "We can see that the AmountSpent column has negative values in it. However, such column can only hold positive values that is greater than 0. Let us fix that."
   ]
  },
  {
   "cell_type": "code",
   "execution_count": 15,
   "metadata": {},
   "outputs": [],
   "source": [
    "# Getting the positive value\n",
    "transaction_df['AmountSpent'] = transaction_df['AmountSpent'].abs()"
   ]
  },
  {
   "cell_type": "code",
   "execution_count": 16,
   "metadata": {},
   "outputs": [
    {
     "data": {
      "text/html": [
       "<div>\n",
       "<style scoped>\n",
       "    .dataframe tbody tr th:only-of-type {\n",
       "        vertical-align: middle;\n",
       "    }\n",
       "\n",
       "    .dataframe tbody tr th {\n",
       "        vertical-align: top;\n",
       "    }\n",
       "\n",
       "    .dataframe thead th {\n",
       "        text-align: right;\n",
       "    }\n",
       "</style>\n",
       "<table border=\"1\" class=\"dataframe\">\n",
       "  <thead>\n",
       "    <tr style=\"text-align: right;\">\n",
       "      <th></th>\n",
       "      <th>CustomerID</th>\n",
       "      <th>InvoiceNo</th>\n",
       "      <th>AmountSpent</th>\n",
       "    </tr>\n",
       "  </thead>\n",
       "  <tbody>\n",
       "    <tr>\n",
       "      <td>count</td>\n",
       "      <td>406828.000000</td>\n",
       "      <td>406828.000000</td>\n",
       "      <td>406828.000000</td>\n",
       "    </tr>\n",
       "    <tr>\n",
       "      <td>mean</td>\n",
       "      <td>15287.694552</td>\n",
       "      <td>560581.737412</td>\n",
       "      <td>23.407303</td>\n",
       "    </tr>\n",
       "    <tr>\n",
       "      <td>std</td>\n",
       "      <td>1713.600528</td>\n",
       "      <td>13105.458755</td>\n",
       "      <td>427.438254</td>\n",
       "    </tr>\n",
       "    <tr>\n",
       "      <td>min</td>\n",
       "      <td>12346.000000</td>\n",
       "      <td>536365.000000</td>\n",
       "      <td>0.000000</td>\n",
       "    </tr>\n",
       "    <tr>\n",
       "      <td>25%</td>\n",
       "      <td>13953.000000</td>\n",
       "      <td>549130.000000</td>\n",
       "      <td>4.680000</td>\n",
       "    </tr>\n",
       "    <tr>\n",
       "      <td>50%</td>\n",
       "      <td>15152.000000</td>\n",
       "      <td>561873.000000</td>\n",
       "      <td>11.800000</td>\n",
       "    </tr>\n",
       "    <tr>\n",
       "      <td>75%</td>\n",
       "      <td>16791.000000</td>\n",
       "      <td>572065.000000</td>\n",
       "      <td>19.800000</td>\n",
       "    </tr>\n",
       "    <tr>\n",
       "      <td>max</td>\n",
       "      <td>18287.000000</td>\n",
       "      <td>581587.000000</td>\n",
       "      <td>168469.600000</td>\n",
       "    </tr>\n",
       "  </tbody>\n",
       "</table>\n",
       "</div>"
      ],
      "text/plain": [
       "          CustomerID      InvoiceNo    AmountSpent\n",
       "count  406828.000000  406828.000000  406828.000000\n",
       "mean    15287.694552  560581.737412      23.407303\n",
       "std      1713.600528   13105.458755     427.438254\n",
       "min     12346.000000  536365.000000       0.000000\n",
       "25%     13953.000000  549130.000000       4.680000\n",
       "50%     15152.000000  561873.000000      11.800000\n",
       "75%     16791.000000  572065.000000      19.800000\n",
       "max     18287.000000  581587.000000  168469.600000"
      ]
     },
     "execution_count": 16,
     "metadata": {},
     "output_type": "execute_result"
    }
   ],
   "source": [
    "transaction_df.describe()"
   ]
  },
  {
   "cell_type": "markdown",
   "metadata": {},
   "source": [
    "We've successfully cleaned the dataset!\n",
    "\n",
    "In a practical scenario, data cleaning can take anywhere from an hour to just a few seconds of time. The quality of data is dependent of multiple factors and in order to minimize the time taken to clean a dataset, all businesses should put an effort into collecting data from verified and validated sources.\n",
    "\n",
    "Moving on, let us save the cleaned dataset as a new CSV file so that we are able to use it in future lessons."
   ]
  },
  {
   "cell_type": "code",
   "execution_count": 17,
   "metadata": {},
   "outputs": [],
   "source": [
    "# saving as a new CSV file\n",
    "transaction_df.to_csv('data/customer_dataset.csv', header=True, index=False)"
   ]
  },
  {
   "cell_type": "markdown",
   "metadata": {},
   "source": [
    "#### 8. Performing Customer Analytics\n",
    "\n",
    "Our goal in this section is to learn how to implement the knowledge we've gained till now in order to find answers to meaningful customer-related questions."
   ]
  },
  {
   "cell_type": "code",
   "execution_count": 18,
   "metadata": {},
   "outputs": [],
   "source": [
    "import pandas as pd\n",
    "import matplotlib.pyplot as plt\n",
    "\n",
    "%matplotlib inline"
   ]
  },
  {
   "cell_type": "markdown",
   "metadata": {},
   "source": [
    "Next, importing the CSV file called customer_dataset.csv which contains information about the purchases made by the customers."
   ]
  },
  {
   "cell_type": "code",
   "execution_count": 19,
   "metadata": {},
   "outputs": [],
   "source": [
    "customer_df = pd.read_csv('data/customer_dataset.csv')"
   ]
  },
  {
   "cell_type": "code",
   "execution_count": 20,
   "metadata": {},
   "outputs": [
    {
     "data": {
      "text/html": [
       "<div>\n",
       "<style scoped>\n",
       "    .dataframe tbody tr th:only-of-type {\n",
       "        vertical-align: middle;\n",
       "    }\n",
       "\n",
       "    .dataframe tbody tr th {\n",
       "        vertical-align: top;\n",
       "    }\n",
       "\n",
       "    .dataframe thead th {\n",
       "        text-align: right;\n",
       "    }\n",
       "</style>\n",
       "<table border=\"1\" class=\"dataframe\">\n",
       "  <thead>\n",
       "    <tr style=\"text-align: right;\">\n",
       "      <th></th>\n",
       "      <th>CustomerID</th>\n",
       "      <th>InvoiceNo</th>\n",
       "      <th>AmountSpent</th>\n",
       "      <th>InvoiceDate</th>\n",
       "      <th>Country</th>\n",
       "    </tr>\n",
       "  </thead>\n",
       "  <tbody>\n",
       "    <tr>\n",
       "      <td>0</td>\n",
       "      <td>17850</td>\n",
       "      <td>536365</td>\n",
       "      <td>15.30</td>\n",
       "      <td>2010-12-01 08:26:00</td>\n",
       "      <td>United Kingdom</td>\n",
       "    </tr>\n",
       "    <tr>\n",
       "      <td>1</td>\n",
       "      <td>17850</td>\n",
       "      <td>536365</td>\n",
       "      <td>20.34</td>\n",
       "      <td>2010-12-01 08:26:00</td>\n",
       "      <td>United Kingdom</td>\n",
       "    </tr>\n",
       "    <tr>\n",
       "      <td>2</td>\n",
       "      <td>17850</td>\n",
       "      <td>536365</td>\n",
       "      <td>22.00</td>\n",
       "      <td>2010-12-01 08:26:00</td>\n",
       "      <td>United Kingdom</td>\n",
       "    </tr>\n",
       "    <tr>\n",
       "      <td>3</td>\n",
       "      <td>17850</td>\n",
       "      <td>536365</td>\n",
       "      <td>20.34</td>\n",
       "      <td>2010-12-01 08:26:00</td>\n",
       "      <td>United Kingdom</td>\n",
       "    </tr>\n",
       "    <tr>\n",
       "      <td>4</td>\n",
       "      <td>17850</td>\n",
       "      <td>536365</td>\n",
       "      <td>20.34</td>\n",
       "      <td>2010-12-01 08:26:00</td>\n",
       "      <td>United Kingdom</td>\n",
       "    </tr>\n",
       "  </tbody>\n",
       "</table>\n",
       "</div>"
      ],
      "text/plain": [
       "   CustomerID  InvoiceNo  AmountSpent          InvoiceDate         Country\n",
       "0       17850     536365        15.30  2010-12-01 08:26:00  United Kingdom\n",
       "1       17850     536365        20.34  2010-12-01 08:26:00  United Kingdom\n",
       "2       17850     536365        22.00  2010-12-01 08:26:00  United Kingdom\n",
       "3       17850     536365        20.34  2010-12-01 08:26:00  United Kingdom\n",
       "4       17850     536365        20.34  2010-12-01 08:26:00  United Kingdom"
      ]
     },
     "execution_count": 20,
     "metadata": {},
     "output_type": "execute_result"
    }
   ],
   "source": [
    "customer_df.head()"
   ]
  },
  {
   "cell_type": "markdown",
   "metadata": {},
   "source": [
    "Let us also view the shape of the DataFrame to determine how many rows of data are in the cleaned dataset."
   ]
  },
  {
   "cell_type": "code",
   "execution_count": 21,
   "metadata": {},
   "outputs": [
    {
     "data": {
      "text/plain": [
       "(406828, 5)"
      ]
     },
     "execution_count": 21,
     "metadata": {},
     "output_type": "execute_result"
    }
   ],
   "source": [
    "customer_df.shape"
   ]
  },
  {
   "cell_type": "markdown",
   "metadata": {},
   "source": [
    "We can start our analysis by determining how many unique data values are present in each column of the DataFrame. We will be using the nunique() method off the Pandas DataFrame for this."
   ]
  },
  {
   "cell_type": "code",
   "execution_count": 22,
   "metadata": {},
   "outputs": [
    {
     "data": {
      "text/plain": [
       "CustomerID      4372\n",
       "InvoiceNo      22189\n",
       "AmountSpent     3027\n",
       "InvoiceDate    20460\n",
       "Country           37\n",
       "dtype: int64"
      ]
     },
     "execution_count": 22,
     "metadata": {},
     "output_type": "execute_result"
    }
   ],
   "source": [
    "# Printing the number of unuque data values present in each column\n",
    "customer_df.nunique()"
   ]
  },
  {
   "cell_type": "markdown",
   "metadata": {},
   "source": [
    "The dataset holds information about 4372 unique customers from 37 different countries.\n",
    "\n",
    "Also, we can clearly see that even though there are 400,000+ recorded transactions, there are only 22,189 unique invoice numbers. Therefore, we can conclude that the invoice number is not unique to each transaction.\n",
    "\n",
    "Now, let us find the total numbr of unique customers per country. We can use the groupby() method off of the Pandas DataFrame for this."
   ]
  },
  {
   "cell_type": "code",
   "execution_count": 25,
   "metadata": {},
   "outputs": [
    {
     "data": {
      "text/html": [
       "<div>\n",
       "<style scoped>\n",
       "    .dataframe tbody tr th:only-of-type {\n",
       "        vertical-align: middle;\n",
       "    }\n",
       "\n",
       "    .dataframe tbody tr th {\n",
       "        vertical-align: top;\n",
       "    }\n",
       "\n",
       "    .dataframe thead th {\n",
       "        text-align: right;\n",
       "    }\n",
       "</style>\n",
       "<table border=\"1\" class=\"dataframe\">\n",
       "  <thead>\n",
       "    <tr style=\"text-align: right;\">\n",
       "      <th></th>\n",
       "      <th>CustomerID</th>\n",
       "    </tr>\n",
       "    <tr>\n",
       "      <th>Country</th>\n",
       "      <th></th>\n",
       "    </tr>\n",
       "  </thead>\n",
       "  <tbody>\n",
       "    <tr>\n",
       "      <td>Australia</td>\n",
       "      <td>9</td>\n",
       "    </tr>\n",
       "    <tr>\n",
       "      <td>Austria</td>\n",
       "      <td>11</td>\n",
       "    </tr>\n",
       "    <tr>\n",
       "      <td>Bahrain</td>\n",
       "      <td>2</td>\n",
       "    </tr>\n",
       "    <tr>\n",
       "      <td>Belgium</td>\n",
       "      <td>25</td>\n",
       "    </tr>\n",
       "    <tr>\n",
       "      <td>Brazil</td>\n",
       "      <td>1</td>\n",
       "    </tr>\n",
       "    <tr>\n",
       "      <td>Canada</td>\n",
       "      <td>4</td>\n",
       "    </tr>\n",
       "    <tr>\n",
       "      <td>Channel Islands</td>\n",
       "      <td>9</td>\n",
       "    </tr>\n",
       "    <tr>\n",
       "      <td>Cyprus</td>\n",
       "      <td>8</td>\n",
       "    </tr>\n",
       "    <tr>\n",
       "      <td>Czech Republic</td>\n",
       "      <td>1</td>\n",
       "    </tr>\n",
       "    <tr>\n",
       "      <td>Denmark</td>\n",
       "      <td>9</td>\n",
       "    </tr>\n",
       "    <tr>\n",
       "      <td>EIRE</td>\n",
       "      <td>3</td>\n",
       "    </tr>\n",
       "    <tr>\n",
       "      <td>European Community</td>\n",
       "      <td>1</td>\n",
       "    </tr>\n",
       "    <tr>\n",
       "      <td>Finland</td>\n",
       "      <td>12</td>\n",
       "    </tr>\n",
       "    <tr>\n",
       "      <td>France</td>\n",
       "      <td>87</td>\n",
       "    </tr>\n",
       "    <tr>\n",
       "      <td>Germany</td>\n",
       "      <td>95</td>\n",
       "    </tr>\n",
       "    <tr>\n",
       "      <td>Greece</td>\n",
       "      <td>4</td>\n",
       "    </tr>\n",
       "    <tr>\n",
       "      <td>Iceland</td>\n",
       "      <td>1</td>\n",
       "    </tr>\n",
       "    <tr>\n",
       "      <td>Israel</td>\n",
       "      <td>4</td>\n",
       "    </tr>\n",
       "    <tr>\n",
       "      <td>Italy</td>\n",
       "      <td>15</td>\n",
       "    </tr>\n",
       "    <tr>\n",
       "      <td>Japan</td>\n",
       "      <td>8</td>\n",
       "    </tr>\n",
       "    <tr>\n",
       "      <td>Lebanon</td>\n",
       "      <td>1</td>\n",
       "    </tr>\n",
       "    <tr>\n",
       "      <td>Lithuania</td>\n",
       "      <td>1</td>\n",
       "    </tr>\n",
       "    <tr>\n",
       "      <td>Malta</td>\n",
       "      <td>2</td>\n",
       "    </tr>\n",
       "    <tr>\n",
       "      <td>Netherlands</td>\n",
       "      <td>9</td>\n",
       "    </tr>\n",
       "    <tr>\n",
       "      <td>Norway</td>\n",
       "      <td>10</td>\n",
       "    </tr>\n",
       "    <tr>\n",
       "      <td>Poland</td>\n",
       "      <td>6</td>\n",
       "    </tr>\n",
       "    <tr>\n",
       "      <td>Portugal</td>\n",
       "      <td>19</td>\n",
       "    </tr>\n",
       "    <tr>\n",
       "      <td>RSA</td>\n",
       "      <td>1</td>\n",
       "    </tr>\n",
       "    <tr>\n",
       "      <td>Saudi Arabia</td>\n",
       "      <td>1</td>\n",
       "    </tr>\n",
       "    <tr>\n",
       "      <td>Singapore</td>\n",
       "      <td>1</td>\n",
       "    </tr>\n",
       "    <tr>\n",
       "      <td>Spain</td>\n",
       "      <td>31</td>\n",
       "    </tr>\n",
       "    <tr>\n",
       "      <td>Sweden</td>\n",
       "      <td>8</td>\n",
       "    </tr>\n",
       "    <tr>\n",
       "      <td>Switzerland</td>\n",
       "      <td>21</td>\n",
       "    </tr>\n",
       "    <tr>\n",
       "      <td>USA</td>\n",
       "      <td>4</td>\n",
       "    </tr>\n",
       "    <tr>\n",
       "      <td>United Arab Emirates</td>\n",
       "      <td>2</td>\n",
       "    </tr>\n",
       "    <tr>\n",
       "      <td>United Kingdom</td>\n",
       "      <td>3950</td>\n",
       "    </tr>\n",
       "    <tr>\n",
       "      <td>Unspecified</td>\n",
       "      <td>4</td>\n",
       "    </tr>\n",
       "  </tbody>\n",
       "</table>\n",
       "</div>"
      ],
      "text/plain": [
       "                      CustomerID\n",
       "Country                         \n",
       "Australia                      9\n",
       "Austria                       11\n",
       "Bahrain                        2\n",
       "Belgium                       25\n",
       "Brazil                         1\n",
       "Canada                         4\n",
       "Channel Islands                9\n",
       "Cyprus                         8\n",
       "Czech Republic                 1\n",
       "Denmark                        9\n",
       "EIRE                           3\n",
       "European Community             1\n",
       "Finland                       12\n",
       "France                        87\n",
       "Germany                       95\n",
       "Greece                         4\n",
       "Iceland                        1\n",
       "Israel                         4\n",
       "Italy                         15\n",
       "Japan                          8\n",
       "Lebanon                        1\n",
       "Lithuania                      1\n",
       "Malta                          2\n",
       "Netherlands                    9\n",
       "Norway                        10\n",
       "Poland                         6\n",
       "Portugal                      19\n",
       "RSA                            1\n",
       "Saudi Arabia                   1\n",
       "Singapore                      1\n",
       "Spain                         31\n",
       "Sweden                         8\n",
       "Switzerland                   21\n",
       "USA                            4\n",
       "United Arab Emirates           2\n",
       "United Kingdom              3950\n",
       "Unspecified                    4"
      ]
     },
     "execution_count": 25,
     "metadata": {},
     "output_type": "execute_result"
    }
   ],
   "source": [
    "# Getting the total number of unique customers per country\n",
    "customer_df.groupby(['Country'])[['CustomerID']].nunique()"
   ]
  },
  {
   "cell_type": "markdown",
   "metadata": {},
   "source": [
    "Letus assign this DataFrame to a variable, rename the column and sort it based on the number of unique customers per country."
   ]
  },
  {
   "cell_type": "code",
   "execution_count": 26,
   "metadata": {},
   "outputs": [
    {
     "data": {
      "text/html": [
       "<div>\n",
       "<style scoped>\n",
       "    .dataframe tbody tr th:only-of-type {\n",
       "        vertical-align: middle;\n",
       "    }\n",
       "\n",
       "    .dataframe tbody tr th {\n",
       "        vertical-align: top;\n",
       "    }\n",
       "\n",
       "    .dataframe thead th {\n",
       "        text-align: right;\n",
       "    }\n",
       "</style>\n",
       "<table border=\"1\" class=\"dataframe\">\n",
       "  <thead>\n",
       "    <tr style=\"text-align: right;\">\n",
       "      <th></th>\n",
       "      <th>no_of_customers</th>\n",
       "    </tr>\n",
       "    <tr>\n",
       "      <th>Country</th>\n",
       "      <th></th>\n",
       "    </tr>\n",
       "  </thead>\n",
       "  <tbody>\n",
       "    <tr>\n",
       "      <td>United Kingdom</td>\n",
       "      <td>3950</td>\n",
       "    </tr>\n",
       "    <tr>\n",
       "      <td>Germany</td>\n",
       "      <td>95</td>\n",
       "    </tr>\n",
       "    <tr>\n",
       "      <td>France</td>\n",
       "      <td>87</td>\n",
       "    </tr>\n",
       "    <tr>\n",
       "      <td>Spain</td>\n",
       "      <td>31</td>\n",
       "    </tr>\n",
       "    <tr>\n",
       "      <td>Belgium</td>\n",
       "      <td>25</td>\n",
       "    </tr>\n",
       "  </tbody>\n",
       "</table>\n",
       "</div>"
      ],
      "text/plain": [
       "                no_of_customers\n",
       "Country                        \n",
       "United Kingdom             3950\n",
       "Germany                      95\n",
       "France                       87\n",
       "Spain                        31\n",
       "Belgium                      25"
      ]
     },
     "execution_count": 26,
     "metadata": {},
     "output_type": "execute_result"
    }
   ],
   "source": [
    "# Getting the total number of unique coustomers per country\n",
    "df_country = customer_df.groupby(['Country'])[['CustomerID']].nunique()\n",
    "\n",
    "# Renaming the column names\n",
    "df_country.columns = ['no_of_customers']\n",
    "\n",
    "# Sorting the DataFrame based on the number of customers\n",
    "df_country = df_country.sort_values('no_of_customers', ascending=False)\n",
    "\n",
    "# Looking at the first five rows\n",
    "df_country.head()"
   ]
  },
  {
   "cell_type": "markdown",
   "metadata": {},
   "source": [
    "Now that we have sorted DataFrame, let us visualize it using a bar plot."
   ]
  },
  {
   "cell_type": "code",
   "execution_count": 27,
   "metadata": {},
   "outputs": [
    {
     "data": {
      "text/plain": [
       "<matplotlib.axes._subplots.AxesSubplot at 0x23b1d316908>"
      ]
     },
     "execution_count": 27,
     "metadata": {},
     "output_type": "execute_result"
    },
    {
     "data": {
      "image/png": "[encoded data removed]",
      "text/plain": [
       "<Figure size 1296x432 with 1 Axes>"
      ]
     },
     "metadata": {
      "needs_background": "light"
     },
     "output_type": "display_data"
    }
   ],
   "source": [
    "# Plotting a bar plot\n",
    "df_country.plot(kind='bar', figsize = (18,6))"
   ]
  },
  {
   "cell_type": "markdown",
   "metadata": {},
   "source": [
    "We can clearly see how the customers are distributed per country using the bar plot.\n",
    "\n",
    "As a next step, let us generate insights using the four methods of analytics we have learnt before:\n",
    "- Using Descriptive Analytics, we can describe the plot stating that most of the customers of the online retail store are from the United Kingdom. Also, we can also conclude that most of the customers of the online retail store are based in Europe in comparision to other continents.\n",
    "- Using Diagnostic Analytics, we can diagnose that the cause for the large number of customers coming in from Europe is because the online retail store must have heavily marketed itself in Europe rather than the other countries.\n",
    "- Using Predictive Analytics, we can predict that the online retail store will continue getting more customers from the United Kingdom since there is already massive number of customers base in the United Kingdom.\n",
    "- Using Prescriptive Analytics, we can prescribe the online retail store to further invest in marketing in the United Kingdom since number of conversions are very good over there."
   ]
  },
  {
   "cell_type": "markdown",
   "metadata": {},
   "source": [
    "Now, let us move on to understand how the customers are generating revenue for the online retail store.\n",
    "\n",
    "For this, we will be calculating the total amount of transaction per month. So, let us extract the year and month information from the InvoiceDate column."
   ]
  },
  {
   "cell_type": "code",
   "execution_count": 28,
   "metadata": {},
   "outputs": [
    {
     "data": {
      "text/html": [
       "<div>\n",
       "<style scoped>\n",
       "    .dataframe tbody tr th:only-of-type {\n",
       "        vertical-align: middle;\n",
       "    }\n",
       "\n",
       "    .dataframe tbody tr th {\n",
       "        vertical-align: top;\n",
       "    }\n",
       "\n",
       "    .dataframe thead th {\n",
       "        text-align: right;\n",
       "    }\n",
       "</style>\n",
       "<table border=\"1\" class=\"dataframe\">\n",
       "  <thead>\n",
       "    <tr style=\"text-align: right;\">\n",
       "      <th></th>\n",
       "      <th>CustomerID</th>\n",
       "      <th>InvoiceNo</th>\n",
       "      <th>AmountSpent</th>\n",
       "      <th>InvoiceDate</th>\n",
       "      <th>Country</th>\n",
       "    </tr>\n",
       "  </thead>\n",
       "  <tbody>\n",
       "    <tr>\n",
       "      <td>0</td>\n",
       "      <td>17850</td>\n",
       "      <td>536365</td>\n",
       "      <td>15.30</td>\n",
       "      <td>2010-12-01 08:26:00</td>\n",
       "      <td>United Kingdom</td>\n",
       "    </tr>\n",
       "    <tr>\n",
       "      <td>1</td>\n",
       "      <td>17850</td>\n",
       "      <td>536365</td>\n",
       "      <td>20.34</td>\n",
       "      <td>2010-12-01 08:26:00</td>\n",
       "      <td>United Kingdom</td>\n",
       "    </tr>\n",
       "    <tr>\n",
       "      <td>2</td>\n",
       "      <td>17850</td>\n",
       "      <td>536365</td>\n",
       "      <td>22.00</td>\n",
       "      <td>2010-12-01 08:26:00</td>\n",
       "      <td>United Kingdom</td>\n",
       "    </tr>\n",
       "    <tr>\n",
       "      <td>3</td>\n",
       "      <td>17850</td>\n",
       "      <td>536365</td>\n",
       "      <td>20.34</td>\n",
       "      <td>2010-12-01 08:26:00</td>\n",
       "      <td>United Kingdom</td>\n",
       "    </tr>\n",
       "    <tr>\n",
       "      <td>4</td>\n",
       "      <td>17850</td>\n",
       "      <td>536365</td>\n",
       "      <td>20.34</td>\n",
       "      <td>2010-12-01 08:26:00</td>\n",
       "      <td>United Kingdom</td>\n",
       "    </tr>\n",
       "  </tbody>\n",
       "</table>\n",
       "</div>"
      ],
      "text/plain": [
       "   CustomerID  InvoiceNo  AmountSpent          InvoiceDate         Country\n",
       "0       17850     536365        15.30  2010-12-01 08:26:00  United Kingdom\n",
       "1       17850     536365        20.34  2010-12-01 08:26:00  United Kingdom\n",
       "2       17850     536365        22.00  2010-12-01 08:26:00  United Kingdom\n",
       "3       17850     536365        20.34  2010-12-01 08:26:00  United Kingdom\n",
       "4       17850     536365        20.34  2010-12-01 08:26:00  United Kingdom"
      ]
     },
     "execution_count": 28,
     "metadata": {},
     "output_type": "execute_result"
    }
   ],
   "source": [
    "customer_df.head()"
   ]
  },
  {
   "cell_type": "code",
   "execution_count": 29,
   "metadata": {},
   "outputs": [
    {
     "data": {
      "text/plain": [
       "0         2010-12\n",
       "1         2010-12\n",
       "2         2010-12\n",
       "3         2010-12\n",
       "4         2010-12\n",
       "           ...   \n",
       "406823    2011-12\n",
       "406824    2011-12\n",
       "406825    2011-12\n",
       "406826    2011-12\n",
       "406827    2011-12\n",
       "Name: InvoiceDate, Length: 406828, dtype: object"
      ]
     },
     "execution_count": 29,
     "metadata": {},
     "output_type": "execute_result"
    }
   ],
   "source": [
    "# Getting only the year and month from the date column\n",
    "pd.to_datetime(customer_df['InvoiceDate']).apply(lambda x:x.strftime(\"%Y-%m\"))"
   ]
  },
  {
   "cell_type": "code",
   "execution_count": 30,
   "metadata": {},
   "outputs": [],
   "source": [
    "# Assigning the extracted values to a new column\n",
    "customer_df['InvoiceYearMonth'] = pd.to_datetime(customer_df['InvoiceDate']).apply(lambda x:x.strftime(\"%Y-%m\"))"
   ]
  },
  {
   "cell_type": "code",
   "execution_count": 31,
   "metadata": {},
   "outputs": [
    {
     "data": {
      "text/html": [
       "<div>\n",
       "<style scoped>\n",
       "    .dataframe tbody tr th:only-of-type {\n",
       "        vertical-align: middle;\n",
       "    }\n",
       "\n",
       "    .dataframe tbody tr th {\n",
       "        vertical-align: top;\n",
       "    }\n",
       "\n",
       "    .dataframe thead th {\n",
       "        text-align: right;\n",
       "    }\n",
       "</style>\n",
       "<table border=\"1\" class=\"dataframe\">\n",
       "  <thead>\n",
       "    <tr style=\"text-align: right;\">\n",
       "      <th></th>\n",
       "      <th>CustomerID</th>\n",
       "      <th>InvoiceNo</th>\n",
       "      <th>AmountSpent</th>\n",
       "      <th>InvoiceDate</th>\n",
       "      <th>Country</th>\n",
       "      <th>InvoiceYearMonth</th>\n",
       "    </tr>\n",
       "  </thead>\n",
       "  <tbody>\n",
       "    <tr>\n",
       "      <td>0</td>\n",
       "      <td>17850</td>\n",
       "      <td>536365</td>\n",
       "      <td>15.30</td>\n",
       "      <td>2010-12-01 08:26:00</td>\n",
       "      <td>United Kingdom</td>\n",
       "      <td>2010-12</td>\n",
       "    </tr>\n",
       "    <tr>\n",
       "      <td>1</td>\n",
       "      <td>17850</td>\n",
       "      <td>536365</td>\n",
       "      <td>20.34</td>\n",
       "      <td>2010-12-01 08:26:00</td>\n",
       "      <td>United Kingdom</td>\n",
       "      <td>2010-12</td>\n",
       "    </tr>\n",
       "    <tr>\n",
       "      <td>2</td>\n",
       "      <td>17850</td>\n",
       "      <td>536365</td>\n",
       "      <td>22.00</td>\n",
       "      <td>2010-12-01 08:26:00</td>\n",
       "      <td>United Kingdom</td>\n",
       "      <td>2010-12</td>\n",
       "    </tr>\n",
       "    <tr>\n",
       "      <td>3</td>\n",
       "      <td>17850</td>\n",
       "      <td>536365</td>\n",
       "      <td>20.34</td>\n",
       "      <td>2010-12-01 08:26:00</td>\n",
       "      <td>United Kingdom</td>\n",
       "      <td>2010-12</td>\n",
       "    </tr>\n",
       "    <tr>\n",
       "      <td>4</td>\n",
       "      <td>17850</td>\n",
       "      <td>536365</td>\n",
       "      <td>20.34</td>\n",
       "      <td>2010-12-01 08:26:00</td>\n",
       "      <td>United Kingdom</td>\n",
       "      <td>2010-12</td>\n",
       "    </tr>\n",
       "  </tbody>\n",
       "</table>\n",
       "</div>"
      ],
      "text/plain": [
       "   CustomerID  InvoiceNo  AmountSpent          InvoiceDate         Country  \\\n",
       "0       17850     536365        15.30  2010-12-01 08:26:00  United Kingdom   \n",
       "1       17850     536365        20.34  2010-12-01 08:26:00  United Kingdom   \n",
       "2       17850     536365        22.00  2010-12-01 08:26:00  United Kingdom   \n",
       "3       17850     536365        20.34  2010-12-01 08:26:00  United Kingdom   \n",
       "4       17850     536365        20.34  2010-12-01 08:26:00  United Kingdom   \n",
       "\n",
       "  InvoiceYearMonth  \n",
       "0          2010-12  \n",
       "1          2010-12  \n",
       "2          2010-12  \n",
       "3          2010-12  \n",
       "4          2010-12  "
      ]
     },
     "execution_count": 31,
     "metadata": {},
     "output_type": "execute_result"
    }
   ],
   "source": [
    "# Looking at the first five rows\n",
    "customer_df.head()"
   ]
  },
  {
   "cell_type": "markdown",
   "metadata": {},
   "source": [
    "We can now calculate the total revenue amount for each column per year by using the groupby() method as before and finding the sum of the column instead of the unique number of data elements."
   ]
  },
  {
   "cell_type": "code",
   "execution_count": 32,
   "metadata": {},
   "outputs": [
    {
     "data": {
      "text/html": [
       "<div>\n",
       "<style scoped>\n",
       "    .dataframe tbody tr th:only-of-type {\n",
       "        vertical-align: middle;\n",
       "    }\n",
       "\n",
       "    .dataframe tbody tr th {\n",
       "        vertical-align: top;\n",
       "    }\n",
       "\n",
       "    .dataframe thead th {\n",
       "        text-align: right;\n",
       "    }\n",
       "</style>\n",
       "<table border=\"1\" class=\"dataframe\">\n",
       "  <thead>\n",
       "    <tr style=\"text-align: right;\">\n",
       "      <th></th>\n",
       "      <th>AmountSpent</th>\n",
       "    </tr>\n",
       "    <tr>\n",
       "      <th>InvoiceYearMonth</th>\n",
       "      <th></th>\n",
       "    </tr>\n",
       "  </thead>\n",
       "  <tbody>\n",
       "    <tr>\n",
       "      <td>2010-12</td>\n",
       "      <td>590823.760</td>\n",
       "    </tr>\n",
       "    <tr>\n",
       "      <td>2011-01</td>\n",
       "      <td>663815.700</td>\n",
       "    </tr>\n",
       "    <tr>\n",
       "      <td>2011-02</td>\n",
       "      <td>457728.550</td>\n",
       "    </tr>\n",
       "    <tr>\n",
       "      <td>2011-03</td>\n",
       "      <td>611036.910</td>\n",
       "    </tr>\n",
       "    <tr>\n",
       "      <td>2011-04</td>\n",
       "      <td>512352.871</td>\n",
       "    </tr>\n",
       "  </tbody>\n",
       "</table>\n",
       "</div>"
      ],
      "text/plain": [
       "                  AmountSpent\n",
       "InvoiceYearMonth             \n",
       "2010-12            590823.760\n",
       "2011-01            663815.700\n",
       "2011-02            457728.550\n",
       "2011-03            611036.910\n",
       "2011-04            512352.871"
      ]
     },
     "execution_count": 32,
     "metadata": {},
     "output_type": "execute_result"
    }
   ],
   "source": [
    "# Getting the total revenue per month per year\n",
    "df_revenue = customer_df.groupby(['InvoiceYearMonth'])[['AmountSpent']].sum()\n",
    "\n",
    "# Looking at the first five rows\n",
    "df_revenue.head()"
   ]
  },
  {
   "cell_type": "markdown",
   "metadata": {},
   "source": [
    "Now, let us plot the values to see the trend of amount spent by the customers for each month."
   ]
  },
  {
   "cell_type": "code",
   "execution_count": 37,
   "metadata": {},
   "outputs": [
    {
     "data": {
      "text/plain": [
       "<matplotlib.axes._subplots.AxesSubplot at 0x23b2237f548>"
      ]
     },
     "execution_count": 37,
     "metadata": {},
     "output_type": "execute_result"
    },
    {
     "data": {
      "image/png": "[encoded data removed]",
      "text/plain": [
       "<Figure size 1296x432 with 1 Axes>"
      ]
     },
     "metadata": {
      "needs_background": "light"
     },
     "output_type": "display_data"
    }
   ],
   "source": [
    "# Plotting a line plot\n",
    "df_revenue.plot(kind='line', figsize = (18,6))"
   ]
  },
  {
   "cell_type": "markdown",
   "metadata": {},
   "source": [
    "We can see straightway that the sale has dropped significantly in the December of 2011. Is the online retail store losing customers?\n",
    "\n",
    "Let us find out the reason for this.\n",
    "\n",
    "We can find the date and time at which the last data point was collected in this DataFrame by finding the maximum value of the InvoiceDate column."
   ]
  },
  {
   "cell_type": "code",
   "execution_count": 38,
   "metadata": {},
   "outputs": [
    {
     "data": {
      "text/plain": [
       "'2011-12-09 12:50:00'"
      ]
     },
     "execution_count": 38,
     "metadata": {},
     "output_type": "execute_result"
    }
   ],
   "source": [
    "# Finding the maximum value of the DateTime column\n",
    "customer_df['InvoiceDate'].max()"
   ]
  },
  {
   "cell_type": "markdown",
   "metadata": {},
   "source": [
    "So, the early stopping of the data collection was the cause for the downward fall of sales in December.\n",
    "\n",
    "Let us now shift our focus a little bit more towards the customers and find how many monthly active customers were present in each month."
   ]
  },
  {
   "cell_type": "code",
   "execution_count": 41,
   "metadata": {},
   "outputs": [
    {
     "data": {
      "text/html": [
       "<div>\n",
       "<style scoped>\n",
       "    .dataframe tbody tr th:only-of-type {\n",
       "        vertical-align: middle;\n",
       "    }\n",
       "\n",
       "    .dataframe tbody tr th {\n",
       "        vertical-align: top;\n",
       "    }\n",
       "\n",
       "    .dataframe thead th {\n",
       "        text-align: right;\n",
       "    }\n",
       "</style>\n",
       "<table border=\"1\" class=\"dataframe\">\n",
       "  <thead>\n",
       "    <tr style=\"text-align: right;\">\n",
       "      <th></th>\n",
       "      <th>no_of_unique_customers</th>\n",
       "    </tr>\n",
       "    <tr>\n",
       "      <th>InvoiceYearMonth</th>\n",
       "      <th></th>\n",
       "    </tr>\n",
       "  </thead>\n",
       "  <tbody>\n",
       "    <tr>\n",
       "      <td>2010-12</td>\n",
       "      <td>948</td>\n",
       "    </tr>\n",
       "    <tr>\n",
       "      <td>2011-01</td>\n",
       "      <td>783</td>\n",
       "    </tr>\n",
       "    <tr>\n",
       "      <td>2011-02</td>\n",
       "      <td>798</td>\n",
       "    </tr>\n",
       "    <tr>\n",
       "      <td>2011-03</td>\n",
       "      <td>1020</td>\n",
       "    </tr>\n",
       "    <tr>\n",
       "      <td>2011-04</td>\n",
       "      <td>899</td>\n",
       "    </tr>\n",
       "  </tbody>\n",
       "</table>\n",
       "</div>"
      ],
      "text/plain": [
       "                  no_of_unique_customers\n",
       "InvoiceYearMonth                        \n",
       "2010-12                              948\n",
       "2011-01                              783\n",
       "2011-02                              798\n",
       "2011-03                             1020\n",
       "2011-04                              899"
      ]
     },
     "execution_count": 41,
     "metadata": {},
     "output_type": "execute_result"
    }
   ],
   "source": [
    "# Creating monthly active customers DataFrame by counting unique Customer IDs\n",
    "df_monthly_active = customer_df.groupby('InvoiceYearMonth')[['CustomerID']].nunique()\n",
    "\n",
    "# Renaming the column names\n",
    "df_monthly_active.columns = ['no_of_unique_customers']\n",
    "\n",
    "# Looking at the first five rows\n",
    "df_monthly_active.head()"
   ]
  },
  {
   "cell_type": "markdown",
   "metadata": {},
   "source": [
    "Now, plotting the data using a bar plot, to see how the numbers have flunctuated in the different months."
   ]
  },
  {
   "cell_type": "code",
   "execution_count": 42,
   "metadata": {},
   "outputs": [
    {
     "data": {
      "text/plain": [
       "<matplotlib.axes._subplots.AxesSubplot at 0x23b234367c8>"
      ]
     },
     "execution_count": 42,
     "metadata": {},
     "output_type": "execute_result"
    },
    {
     "data": {
      "image/png": "[encoded data removed]",
      "text/plain": [
       "<Figure size 1296x432 with 1 Axes>"
      ]
     },
     "metadata": {
      "needs_background": "light"
     },
     "output_type": "display_data"
    }
   ],
   "source": [
    "# Plotting a bar plot\n",
    "df_monthly_active.plot(kind='bar', figsize = (18,6))"
   ]
  },
  {
   "cell_type": "markdown",
   "metadata": {},
   "source": [
    "We can see that the growth of active customers per month follows a similar trend as the growth in total revenue per month. So, we can suggest that the growth of active customers may be the cause behind the growth in total revenue generated per month. That is an interesting insight indeed."
   ]
  },
  {
   "cell_type": "markdown",
   "metadata": {},
   "source": [
    "##### 8. Finding Recency, Frequency and Monetary Value of Customers\n",
    "In this section, we will be engineering new features from the cleaned transactional dataset to answer three major questions about each unique customer:\n",
    "- When did each unique customer make his/her last purchase? (Recency)\n",
    "- How many times did each unique customer make a purchase? (Frequency)\n",
    "- How much did each unique customer spend in total? (Monetary Value)\n",
    "\n",
    "Also, our goal here is to prepare the data in order to perform customer profiling and segmentation."
   ]
  },
  {
   "cell_type": "code",
   "execution_count": 1,
   "metadata": {},
   "outputs": [],
   "source": [
    "import pandas as pd\n",
    "import matplotlib.pyplot as plt\n",
    "\n",
    "%matplotlib inline"
   ]
  },
  {
   "cell_type": "code",
   "execution_count": 2,
   "metadata": {},
   "outputs": [],
   "source": [
    "customer_df = pd.read_csv('data/customer_dataset.csv')"
   ]
  },
  {
   "cell_type": "code",
   "execution_count": 3,
   "metadata": {},
   "outputs": [
    {
     "data": {
      "text/html": [
       "<div>\n",
       "<style scoped>\n",
       "    .dataframe tbody tr th:only-of-type {\n",
       "        vertical-align: middle;\n",
       "    }\n",
       "\n",
       "    .dataframe tbody tr th {\n",
       "        vertical-align: top;\n",
       "    }\n",
       "\n",
       "    .dataframe thead th {\n",
       "        text-align: right;\n",
       "    }\n",
       "</style>\n",
       "<table border=\"1\" class=\"dataframe\">\n",
       "  <thead>\n",
       "    <tr style=\"text-align: right;\">\n",
       "      <th></th>\n",
       "      <th>CustomerID</th>\n",
       "      <th>InvoiceNo</th>\n",
       "      <th>AmountSpent</th>\n",
       "      <th>InvoiceDate</th>\n",
       "      <th>Country</th>\n",
       "    </tr>\n",
       "  </thead>\n",
       "  <tbody>\n",
       "    <tr>\n",
       "      <td>0</td>\n",
       "      <td>17850</td>\n",
       "      <td>536365</td>\n",
       "      <td>15.30</td>\n",
       "      <td>2010-12-01 08:26:00</td>\n",
       "      <td>United Kingdom</td>\n",
       "    </tr>\n",
       "    <tr>\n",
       "      <td>1</td>\n",
       "      <td>17850</td>\n",
       "      <td>536365</td>\n",
       "      <td>20.34</td>\n",
       "      <td>2010-12-01 08:26:00</td>\n",
       "      <td>United Kingdom</td>\n",
       "    </tr>\n",
       "    <tr>\n",
       "      <td>2</td>\n",
       "      <td>17850</td>\n",
       "      <td>536365</td>\n",
       "      <td>22.00</td>\n",
       "      <td>2010-12-01 08:26:00</td>\n",
       "      <td>United Kingdom</td>\n",
       "    </tr>\n",
       "    <tr>\n",
       "      <td>3</td>\n",
       "      <td>17850</td>\n",
       "      <td>536365</td>\n",
       "      <td>20.34</td>\n",
       "      <td>2010-12-01 08:26:00</td>\n",
       "      <td>United Kingdom</td>\n",
       "    </tr>\n",
       "    <tr>\n",
       "      <td>4</td>\n",
       "      <td>17850</td>\n",
       "      <td>536365</td>\n",
       "      <td>20.34</td>\n",
       "      <td>2010-12-01 08:26:00</td>\n",
       "      <td>United Kingdom</td>\n",
       "    </tr>\n",
       "  </tbody>\n",
       "</table>\n",
       "</div>"
      ],
      "text/plain": [
       "   CustomerID  InvoiceNo  AmountSpent          InvoiceDate         Country\n",
       "0       17850     536365        15.30  2010-12-01 08:26:00  United Kingdom\n",
       "1       17850     536365        20.34  2010-12-01 08:26:00  United Kingdom\n",
       "2       17850     536365        22.00  2010-12-01 08:26:00  United Kingdom\n",
       "3       17850     536365        20.34  2010-12-01 08:26:00  United Kingdom\n",
       "4       17850     536365        20.34  2010-12-01 08:26:00  United Kingdom"
      ]
     },
     "execution_count": 3,
     "metadata": {},
     "output_type": "execute_result"
    }
   ],
   "source": [
    "customer_df.head()"
   ]
  },
  {
   "cell_type": "code",
   "execution_count": 4,
   "metadata": {},
   "outputs": [
    {
     "data": {
      "text/plain": [
       "(406828, 5)"
      ]
     },
     "execution_count": 4,
     "metadata": {},
     "output_type": "execute_result"
    }
   ],
   "source": [
    "customer_df.shape"
   ]
  },
  {
   "cell_type": "markdown",
   "metadata": {},
   "source": [
    "###### Finding Recency of Customers\n",
    "As a first step, let us answer the following question - When did each unique customer make his/her last purchase?\n",
    "\n",
    "We will engineer a new feature that will help us determine the recency of purchase made by each unique customer. For this, we will be taking '2011-12-09' as the observation point and we will calculate the number of days since the last purchase of a customer from this observation point.\n",
    "\n",
    "So, if the last date of purchase of a customer is 2011-12001, then the number of days since the observation point can be calculated as (2011/12/09) - (2011/12/01) = 8 days\n",
    "\n",
    "Let us sort the DataFrame based on the InvoiceDate column"
   ]
  },
  {
   "cell_type": "code",
   "execution_count": 5,
   "metadata": {},
   "outputs": [],
   "source": [
    "# Sorting the DataFrame based on the InvoiceDate column\n",
    "customer_df.sort_values('InvoiceDate', inplace=True)"
   ]
  },
  {
   "cell_type": "markdown",
   "metadata": {},
   "source": [
    "Now, only keeping the last row of CustomerID data by dropping all rows containing similar CustomerIDs except the last."
   ]
  },
  {
   "cell_type": "code",
   "execution_count": 6,
   "metadata": {},
   "outputs": [
    {
     "data": {
      "text/html": [
       "<div>\n",
       "<style scoped>\n",
       "    .dataframe tbody tr th:only-of-type {\n",
       "        vertical-align: middle;\n",
       "    }\n",
       "\n",
       "    .dataframe tbody tr th {\n",
       "        vertical-align: top;\n",
       "    }\n",
       "\n",
       "    .dataframe thead th {\n",
       "        text-align: right;\n",
       "    }\n",
       "</style>\n",
       "<table border=\"1\" class=\"dataframe\">\n",
       "  <thead>\n",
       "    <tr style=\"text-align: right;\">\n",
       "      <th></th>\n",
       "      <th>CustomerID</th>\n",
       "      <th>InvoiceNo</th>\n",
       "      <th>AmountSpent</th>\n",
       "      <th>InvoiceDate</th>\n",
       "      <th>Country</th>\n",
       "    </tr>\n",
       "  </thead>\n",
       "  <tbody>\n",
       "    <tr>\n",
       "      <td>0</td>\n",
       "      <td>18074</td>\n",
       "      <td>536384</td>\n",
       "      <td>102.00</td>\n",
       "      <td>2010-12-01 09:53:00</td>\n",
       "      <td>United Kingdom</td>\n",
       "    </tr>\n",
       "    <tr>\n",
       "      <td>1</td>\n",
       "      <td>13747</td>\n",
       "      <td>536393</td>\n",
       "      <td>79.60</td>\n",
       "      <td>2010-12-01 10:37:00</td>\n",
       "      <td>United Kingdom</td>\n",
       "    </tr>\n",
       "    <tr>\n",
       "      <td>2</td>\n",
       "      <td>12791</td>\n",
       "      <td>536403</td>\n",
       "      <td>15.00</td>\n",
       "      <td>2010-12-01 11:27:00</td>\n",
       "      <td>Netherlands</td>\n",
       "    </tr>\n",
       "    <tr>\n",
       "      <td>3</td>\n",
       "      <td>17908</td>\n",
       "      <td>536409</td>\n",
       "      <td>0.42</td>\n",
       "      <td>2010-12-01 11:45:00</td>\n",
       "      <td>United Kingdom</td>\n",
       "    </tr>\n",
       "    <tr>\n",
       "      <td>4</td>\n",
       "      <td>16583</td>\n",
       "      <td>536420</td>\n",
       "      <td>20.40</td>\n",
       "      <td>2010-12-01 12:03:00</td>\n",
       "      <td>United Kingdom</td>\n",
       "    </tr>\n",
       "    <tr>\n",
       "      <td>...</td>\n",
       "      <td>...</td>\n",
       "      <td>...</td>\n",
       "      <td>...</td>\n",
       "      <td>...</td>\n",
       "      <td>...</td>\n",
       "    </tr>\n",
       "    <tr>\n",
       "      <td>4367</td>\n",
       "      <td>17581</td>\n",
       "      <td>581582</td>\n",
       "      <td>12.48</td>\n",
       "      <td>2011-12-09 12:21:00</td>\n",
       "      <td>United Kingdom</td>\n",
       "    </tr>\n",
       "    <tr>\n",
       "      <td>4368</td>\n",
       "      <td>13777</td>\n",
       "      <td>581584</td>\n",
       "      <td>88.80</td>\n",
       "      <td>2011-12-09 12:25:00</td>\n",
       "      <td>United Kingdom</td>\n",
       "    </tr>\n",
       "    <tr>\n",
       "      <td>4369</td>\n",
       "      <td>15804</td>\n",
       "      <td>581585</td>\n",
       "      <td>20.40</td>\n",
       "      <td>2011-12-09 12:31:00</td>\n",
       "      <td>United Kingdom</td>\n",
       "    </tr>\n",
       "    <tr>\n",
       "      <td>4370</td>\n",
       "      <td>13113</td>\n",
       "      <td>581586</td>\n",
       "      <td>70.80</td>\n",
       "      <td>2011-12-09 12:49:00</td>\n",
       "      <td>United Kingdom</td>\n",
       "    </tr>\n",
       "    <tr>\n",
       "      <td>4371</td>\n",
       "      <td>12680</td>\n",
       "      <td>581587</td>\n",
       "      <td>14.85</td>\n",
       "      <td>2011-12-09 12:50:00</td>\n",
       "      <td>France</td>\n",
       "    </tr>\n",
       "  </tbody>\n",
       "</table>\n",
       "<p>4372 rows × 5 columns</p>\n",
       "</div>"
      ],
      "text/plain": [
       "      CustomerID  InvoiceNo  AmountSpent          InvoiceDate         Country\n",
       "0          18074     536384       102.00  2010-12-01 09:53:00  United Kingdom\n",
       "1          13747     536393        79.60  2010-12-01 10:37:00  United Kingdom\n",
       "2          12791     536403        15.00  2010-12-01 11:27:00     Netherlands\n",
       "3          17908     536409         0.42  2010-12-01 11:45:00  United Kingdom\n",
       "4          16583     536420        20.40  2010-12-01 12:03:00  United Kingdom\n",
       "...          ...        ...          ...                  ...             ...\n",
       "4367       17581     581582        12.48  2011-12-09 12:21:00  United Kingdom\n",
       "4368       13777     581584        88.80  2011-12-09 12:25:00  United Kingdom\n",
       "4369       15804     581585        20.40  2011-12-09 12:31:00  United Kingdom\n",
       "4370       13113     581586        70.80  2011-12-09 12:49:00  United Kingdom\n",
       "4371       12680     581587        14.85  2011-12-09 12:50:00          France\n",
       "\n",
       "[4372 rows x 5 columns]"
      ]
     },
     "execution_count": 6,
     "metadata": {},
     "output_type": "execute_result"
    }
   ],
   "source": [
    "customer_df.drop_duplicates('CustomerID', keep='last').reset_index(drop=True)"
   ]
  },
  {
   "cell_type": "markdown",
   "metadata": {},
   "source": [
    "##### Hint: .drop_duplicates( '...' , keep = 'last').reset_index( drop = True)"
   ]
  },
  {
   "cell_type": "code",
   "execution_count": 7,
   "metadata": {},
   "outputs": [
    {
     "data": {
      "text/html": [
       "<div>\n",
       "<style scoped>\n",
       "    .dataframe tbody tr th:only-of-type {\n",
       "        vertical-align: middle;\n",
       "    }\n",
       "\n",
       "    .dataframe tbody tr th {\n",
       "        vertical-align: top;\n",
       "    }\n",
       "\n",
       "    .dataframe thead th {\n",
       "        text-align: right;\n",
       "    }\n",
       "</style>\n",
       "<table border=\"1\" class=\"dataframe\">\n",
       "  <thead>\n",
       "    <tr style=\"text-align: right;\">\n",
       "      <th></th>\n",
       "      <th>CustomerID</th>\n",
       "      <th>InvoiceNo</th>\n",
       "      <th>AmountSpent</th>\n",
       "      <th>InvoiceDate</th>\n",
       "      <th>Country</th>\n",
       "    </tr>\n",
       "  </thead>\n",
       "  <tbody>\n",
       "    <tr>\n",
       "      <td>0</td>\n",
       "      <td>18074</td>\n",
       "      <td>536384</td>\n",
       "      <td>102.00</td>\n",
       "      <td>2010-12-01 09:53:00</td>\n",
       "      <td>United Kingdom</td>\n",
       "    </tr>\n",
       "    <tr>\n",
       "      <td>1</td>\n",
       "      <td>13747</td>\n",
       "      <td>536393</td>\n",
       "      <td>79.60</td>\n",
       "      <td>2010-12-01 10:37:00</td>\n",
       "      <td>United Kingdom</td>\n",
       "    </tr>\n",
       "    <tr>\n",
       "      <td>2</td>\n",
       "      <td>12791</td>\n",
       "      <td>536403</td>\n",
       "      <td>15.00</td>\n",
       "      <td>2010-12-01 11:27:00</td>\n",
       "      <td>Netherlands</td>\n",
       "    </tr>\n",
       "    <tr>\n",
       "      <td>3</td>\n",
       "      <td>17908</td>\n",
       "      <td>536409</td>\n",
       "      <td>0.42</td>\n",
       "      <td>2010-12-01 11:45:00</td>\n",
       "      <td>United Kingdom</td>\n",
       "    </tr>\n",
       "    <tr>\n",
       "      <td>4</td>\n",
       "      <td>16583</td>\n",
       "      <td>536420</td>\n",
       "      <td>20.40</td>\n",
       "      <td>2010-12-01 12:03:00</td>\n",
       "      <td>United Kingdom</td>\n",
       "    </tr>\n",
       "  </tbody>\n",
       "</table>\n",
       "</div>"
      ],
      "text/plain": [
       "   CustomerID  InvoiceNo  AmountSpent          InvoiceDate         Country\n",
       "0       18074     536384       102.00  2010-12-01 09:53:00  United Kingdom\n",
       "1       13747     536393        79.60  2010-12-01 10:37:00  United Kingdom\n",
       "2       12791     536403        15.00  2010-12-01 11:27:00     Netherlands\n",
       "3       17908     536409         0.42  2010-12-01 11:45:00  United Kingdom\n",
       "4       16583     536420        20.40  2010-12-01 12:03:00  United Kingdom"
      ]
     },
     "execution_count": 7,
     "metadata": {},
     "output_type": "execute_result"
    }
   ],
   "source": [
    "# Dropping rows containing duplicate CustomerIDs except the last.\n",
    "user_df = customer_df.drop_duplicates('CustomerID', keep='last').reset_index(drop=True)\n",
    "\n",
    "# Looking at the first five rows\n",
    "user_df.head()"
   ]
  },
  {
   "cell_type": "code",
   "execution_count": 8,
   "metadata": {},
   "outputs": [],
   "source": [
    "# Finding the recency of each customer in respcet to '2011-12-09'\n",
    "user_df['Recency'] = pd.to_datetime(user_df['InvoiceDate'].max()) - pd.to_datetime(user_df['InvoiceDate'])"
   ]
  },
  {
   "cell_type": "code",
   "execution_count": 9,
   "metadata": {},
   "outputs": [
    {
     "data": {
      "text/html": [
       "<div>\n",
       "<style scoped>\n",
       "    .dataframe tbody tr th:only-of-type {\n",
       "        vertical-align: middle;\n",
       "    }\n",
       "\n",
       "    .dataframe tbody tr th {\n",
       "        vertical-align: top;\n",
       "    }\n",
       "\n",
       "    .dataframe thead th {\n",
       "        text-align: right;\n",
       "    }\n",
       "</style>\n",
       "<table border=\"1\" class=\"dataframe\">\n",
       "  <thead>\n",
       "    <tr style=\"text-align: right;\">\n",
       "      <th></th>\n",
       "      <th>CustomerID</th>\n",
       "      <th>InvoiceNo</th>\n",
       "      <th>AmountSpent</th>\n",
       "      <th>InvoiceDate</th>\n",
       "      <th>Country</th>\n",
       "      <th>Recency</th>\n",
       "    </tr>\n",
       "  </thead>\n",
       "  <tbody>\n",
       "    <tr>\n",
       "      <td>0</td>\n",
       "      <td>18074</td>\n",
       "      <td>536384</td>\n",
       "      <td>102.00</td>\n",
       "      <td>2010-12-01 09:53:00</td>\n",
       "      <td>United Kingdom</td>\n",
       "      <td>373 days 02:57:00</td>\n",
       "    </tr>\n",
       "    <tr>\n",
       "      <td>1</td>\n",
       "      <td>13747</td>\n",
       "      <td>536393</td>\n",
       "      <td>79.60</td>\n",
       "      <td>2010-12-01 10:37:00</td>\n",
       "      <td>United Kingdom</td>\n",
       "      <td>373 days 02:13:00</td>\n",
       "    </tr>\n",
       "    <tr>\n",
       "      <td>2</td>\n",
       "      <td>12791</td>\n",
       "      <td>536403</td>\n",
       "      <td>15.00</td>\n",
       "      <td>2010-12-01 11:27:00</td>\n",
       "      <td>Netherlands</td>\n",
       "      <td>373 days 01:23:00</td>\n",
       "    </tr>\n",
       "    <tr>\n",
       "      <td>3</td>\n",
       "      <td>17908</td>\n",
       "      <td>536409</td>\n",
       "      <td>0.42</td>\n",
       "      <td>2010-12-01 11:45:00</td>\n",
       "      <td>United Kingdom</td>\n",
       "      <td>373 days 01:05:00</td>\n",
       "    </tr>\n",
       "    <tr>\n",
       "      <td>4</td>\n",
       "      <td>16583</td>\n",
       "      <td>536420</td>\n",
       "      <td>20.40</td>\n",
       "      <td>2010-12-01 12:03:00</td>\n",
       "      <td>United Kingdom</td>\n",
       "      <td>373 days 00:47:00</td>\n",
       "    </tr>\n",
       "  </tbody>\n",
       "</table>\n",
       "</div>"
      ],
      "text/plain": [
       "   CustomerID  InvoiceNo  AmountSpent          InvoiceDate         Country  \\\n",
       "0       18074     536384       102.00  2010-12-01 09:53:00  United Kingdom   \n",
       "1       13747     536393        79.60  2010-12-01 10:37:00  United Kingdom   \n",
       "2       12791     536403        15.00  2010-12-01 11:27:00     Netherlands   \n",
       "3       17908     536409         0.42  2010-12-01 11:45:00  United Kingdom   \n",
       "4       16583     536420        20.40  2010-12-01 12:03:00  United Kingdom   \n",
       "\n",
       "            Recency  \n",
       "0 373 days 02:57:00  \n",
       "1 373 days 02:13:00  \n",
       "2 373 days 01:23:00  \n",
       "3 373 days 01:05:00  \n",
       "4 373 days 00:47:00  "
      ]
     },
     "execution_count": 9,
     "metadata": {},
     "output_type": "execute_result"
    }
   ],
   "source": [
    "user_df.head()"
   ]
  },
  {
   "cell_type": "markdown",
   "metadata": {},
   "source": [
    "Next, extracting only the days from the Recency column along with the CustomerID."
   ]
  },
  {
   "cell_type": "markdown",
   "metadata": {},
   "source": [
    "##### Hint: .dt.days"
   ]
  },
  {
   "cell_type": "code",
   "execution_count": 10,
   "metadata": {},
   "outputs": [
    {
     "data": {
      "text/html": [
       "<div>\n",
       "<style scoped>\n",
       "    .dataframe tbody tr th:only-of-type {\n",
       "        vertical-align: middle;\n",
       "    }\n",
       "\n",
       "    .dataframe tbody tr th {\n",
       "        vertical-align: top;\n",
       "    }\n",
       "\n",
       "    .dataframe thead th {\n",
       "        text-align: right;\n",
       "    }\n",
       "</style>\n",
       "<table border=\"1\" class=\"dataframe\">\n",
       "  <thead>\n",
       "    <tr style=\"text-align: right;\">\n",
       "      <th></th>\n",
       "      <th>CustomerID</th>\n",
       "      <th>Recency</th>\n",
       "    </tr>\n",
       "  </thead>\n",
       "  <tbody>\n",
       "    <tr>\n",
       "      <td>0</td>\n",
       "      <td>18074</td>\n",
       "      <td>373</td>\n",
       "    </tr>\n",
       "    <tr>\n",
       "      <td>1</td>\n",
       "      <td>13747</td>\n",
       "      <td>373</td>\n",
       "    </tr>\n",
       "    <tr>\n",
       "      <td>2</td>\n",
       "      <td>12791</td>\n",
       "      <td>373</td>\n",
       "    </tr>\n",
       "    <tr>\n",
       "      <td>3</td>\n",
       "      <td>17908</td>\n",
       "      <td>373</td>\n",
       "    </tr>\n",
       "    <tr>\n",
       "      <td>4</td>\n",
       "      <td>16583</td>\n",
       "      <td>373</td>\n",
       "    </tr>\n",
       "  </tbody>\n",
       "</table>\n",
       "</div>"
      ],
      "text/plain": [
       "   CustomerID  Recency\n",
       "0       18074      373\n",
       "1       13747      373\n",
       "2       12791      373\n",
       "3       17908      373\n",
       "4       16583      373"
      ]
     },
     "execution_count": 10,
     "metadata": {},
     "output_type": "execute_result"
    }
   ],
   "source": [
    "# Extracting only the day value\n",
    "user_df['Recency'] = user_df['Recency'].dt.days\n",
    "\n",
    "# Selecting only the CustomerID and Recency column\n",
    "user_df = user_df[['CustomerID', 'Recency']]\n",
    "\n",
    "# Looking at the first five rows\n",
    "user_df.head()"
   ]
  },
  {
   "cell_type": "markdown",
   "metadata": {},
   "source": [
    "Let us plot the frequency distribution of all the days using a histogram."
   ]
  },
  {
   "cell_type": "code",
   "execution_count": 15,
   "metadata": {},
   "outputs": [
    {
     "data": {
      "image/png": "[encoded data removed]",
      "text/plain": [
       "<Figure size 432x288 with 1 Axes>"
      ]
     },
     "metadata": {
      "needs_background": "light"
     },
     "output_type": "display_data"
    }
   ],
   "source": [
    "# Plotting a histogram\n",
    "plt.hist(user_df['Recency']);\n",
    "# plt.hist(user_df['Recency']);"
   ]
  },
  {
   "cell_type": "markdown",
   "metadata": {},
   "source": [
    "It can be seen that most customers have made a purchase within the last 0-50 days which means that majority of the customers are active."
   ]
  },
  {
   "cell_type": "markdown",
   "metadata": {},
   "source": [
    "###### Finding Purchase Frequency of Customers\n",
    "Now, let us answer the qusetion - How many times did each unique customer make a purchase?\n",
    "\n",
    "We will engineer a new feature that will help us determine the frequency of purchases made by each unique customer. For this, we will count the number of rows present in the cleanded transactional data for each unique customer since each row is a purchase made by a customer."
   ]
  },
  {
   "cell_type": "code",
   "execution_count": 16,
   "metadata": {},
   "outputs": [
    {
     "data": {
      "text/html": [
       "<div>\n",
       "<style scoped>\n",
       "    .dataframe tbody tr th:only-of-type {\n",
       "        vertical-align: middle;\n",
       "    }\n",
       "\n",
       "    .dataframe tbody tr th {\n",
       "        vertical-align: top;\n",
       "    }\n",
       "\n",
       "    .dataframe thead th {\n",
       "        text-align: right;\n",
       "    }\n",
       "</style>\n",
       "<table border=\"1\" class=\"dataframe\">\n",
       "  <thead>\n",
       "    <tr style=\"text-align: right;\">\n",
       "      <th></th>\n",
       "      <th>CustomerID</th>\n",
       "      <th>InvoiceNo</th>\n",
       "      <th>AmountSpent</th>\n",
       "      <th>InvoiceDate</th>\n",
       "      <th>Country</th>\n",
       "    </tr>\n",
       "  </thead>\n",
       "  <tbody>\n",
       "    <tr>\n",
       "      <td>0</td>\n",
       "      <td>17850</td>\n",
       "      <td>536365</td>\n",
       "      <td>15.30</td>\n",
       "      <td>2010-12-01 08:26:00</td>\n",
       "      <td>United Kingdom</td>\n",
       "    </tr>\n",
       "    <tr>\n",
       "      <td>1</td>\n",
       "      <td>17850</td>\n",
       "      <td>536365</td>\n",
       "      <td>20.34</td>\n",
       "      <td>2010-12-01 08:26:00</td>\n",
       "      <td>United Kingdom</td>\n",
       "    </tr>\n",
       "    <tr>\n",
       "      <td>2</td>\n",
       "      <td>17850</td>\n",
       "      <td>536365</td>\n",
       "      <td>22.00</td>\n",
       "      <td>2010-12-01 08:26:00</td>\n",
       "      <td>United Kingdom</td>\n",
       "    </tr>\n",
       "    <tr>\n",
       "      <td>3</td>\n",
       "      <td>17850</td>\n",
       "      <td>536365</td>\n",
       "      <td>20.34</td>\n",
       "      <td>2010-12-01 08:26:00</td>\n",
       "      <td>United Kingdom</td>\n",
       "    </tr>\n",
       "    <tr>\n",
       "      <td>4</td>\n",
       "      <td>17850</td>\n",
       "      <td>536365</td>\n",
       "      <td>20.34</td>\n",
       "      <td>2010-12-01 08:26:00</td>\n",
       "      <td>United Kingdom</td>\n",
       "    </tr>\n",
       "  </tbody>\n",
       "</table>\n",
       "</div>"
      ],
      "text/plain": [
       "   CustomerID  InvoiceNo  AmountSpent          InvoiceDate         Country\n",
       "0       17850     536365        15.30  2010-12-01 08:26:00  United Kingdom\n",
       "1       17850     536365        20.34  2010-12-01 08:26:00  United Kingdom\n",
       "2       17850     536365        22.00  2010-12-01 08:26:00  United Kingdom\n",
       "3       17850     536365        20.34  2010-12-01 08:26:00  United Kingdom\n",
       "4       17850     536365        20.34  2010-12-01 08:26:00  United Kingdom"
      ]
     },
     "execution_count": 16,
     "metadata": {},
     "output_type": "execute_result"
    }
   ],
   "source": [
    "# Looking at the first five rows\n",
    "customer_df.head()"
   ]
  },
  {
   "cell_type": "markdown",
   "metadata": {},
   "source": [
    "Counting the number of transactions of each CustomerID gives the number of times each customer has made a purchase."
   ]
  },
  {
   "cell_type": "markdown",
   "metadata": {},
   "source": [
    "##### Hint: .vlaue_counts().reset_index()"
   ]
  },
  {
   "cell_type": "code",
   "execution_count": 17,
   "metadata": {},
   "outputs": [
    {
     "data": {
      "text/html": [
       "<div>\n",
       "<style scoped>\n",
       "    .dataframe tbody tr th:only-of-type {\n",
       "        vertical-align: middle;\n",
       "    }\n",
       "\n",
       "    .dataframe tbody tr th {\n",
       "        vertical-align: top;\n",
       "    }\n",
       "\n",
       "    .dataframe thead th {\n",
       "        text-align: right;\n",
       "    }\n",
       "</style>\n",
       "<table border=\"1\" class=\"dataframe\">\n",
       "  <thead>\n",
       "    <tr style=\"text-align: right;\">\n",
       "      <th></th>\n",
       "      <th>CustomerID</th>\n",
       "      <th>Frequency</th>\n",
       "    </tr>\n",
       "  </thead>\n",
       "  <tbody>\n",
       "    <tr>\n",
       "      <td>0</td>\n",
       "      <td>17841</td>\n",
       "      <td>7983</td>\n",
       "    </tr>\n",
       "    <tr>\n",
       "      <td>1</td>\n",
       "      <td>14911</td>\n",
       "      <td>5903</td>\n",
       "    </tr>\n",
       "    <tr>\n",
       "      <td>2</td>\n",
       "      <td>14096</td>\n",
       "      <td>5128</td>\n",
       "    </tr>\n",
       "    <tr>\n",
       "      <td>3</td>\n",
       "      <td>12748</td>\n",
       "      <td>4642</td>\n",
       "    </tr>\n",
       "    <tr>\n",
       "      <td>4</td>\n",
       "      <td>14606</td>\n",
       "      <td>2782</td>\n",
       "    </tr>\n",
       "  </tbody>\n",
       "</table>\n",
       "</div>"
      ],
      "text/plain": [
       "   CustomerID  Frequency\n",
       "0       17841       7983\n",
       "1       14911       5903\n",
       "2       14096       5128\n",
       "3       12748       4642\n",
       "4       14606       2782"
      ]
     },
     "execution_count": 17,
     "metadata": {},
     "output_type": "execute_result"
    }
   ],
   "source": [
    "# Getting the frequency of each CustomerID\n",
    "df_frequency = customer_df['CustomerID'].value_counts().reset_index()\n",
    "\n",
    "# Renaming the columns\n",
    "df_frequency.columns = ['CustomerID', 'Frequency']\n",
    "\n",
    "# Looking at the first five rows\n",
    "df_frequency.head()"
   ]
  },
  {
   "cell_type": "markdown",
   "metadata": {},
   "source": [
    "Merging this DataFrame with the user_df DataFrame based on CustomerID."
   ]
  },
  {
   "cell_type": "markdown",
   "metadata": {},
   "source": [
    "##### Hint: merge"
   ]
  },
  {
   "cell_type": "code",
   "execution_count": 18,
   "metadata": {},
   "outputs": [],
   "source": [
    "# Merge this data to our main dataframe\n",
    "user_df = pd.merge(user_df, df_frequency, on='CustomerID')"
   ]
  },
  {
   "cell_type": "code",
   "execution_count": 19,
   "metadata": {},
   "outputs": [
    {
     "data": {
      "text/html": [
       "<div>\n",
       "<style scoped>\n",
       "    .dataframe tbody tr th:only-of-type {\n",
       "        vertical-align: middle;\n",
       "    }\n",
       "\n",
       "    .dataframe tbody tr th {\n",
       "        vertical-align: top;\n",
       "    }\n",
       "\n",
       "    .dataframe thead th {\n",
       "        text-align: right;\n",
       "    }\n",
       "</style>\n",
       "<table border=\"1\" class=\"dataframe\">\n",
       "  <thead>\n",
       "    <tr style=\"text-align: right;\">\n",
       "      <th></th>\n",
       "      <th>CustomerID</th>\n",
       "      <th>Recency</th>\n",
       "      <th>Frequency</th>\n",
       "    </tr>\n",
       "  </thead>\n",
       "  <tbody>\n",
       "    <tr>\n",
       "      <td>0</td>\n",
       "      <td>18074</td>\n",
       "      <td>373</td>\n",
       "      <td>13</td>\n",
       "    </tr>\n",
       "    <tr>\n",
       "      <td>1</td>\n",
       "      <td>13747</td>\n",
       "      <td>373</td>\n",
       "      <td>1</td>\n",
       "    </tr>\n",
       "    <tr>\n",
       "      <td>2</td>\n",
       "      <td>12791</td>\n",
       "      <td>373</td>\n",
       "      <td>2</td>\n",
       "    </tr>\n",
       "    <tr>\n",
       "      <td>3</td>\n",
       "      <td>17908</td>\n",
       "      <td>373</td>\n",
       "      <td>58</td>\n",
       "    </tr>\n",
       "    <tr>\n",
       "      <td>4</td>\n",
       "      <td>16583</td>\n",
       "      <td>373</td>\n",
       "      <td>14</td>\n",
       "    </tr>\n",
       "  </tbody>\n",
       "</table>\n",
       "</div>"
      ],
      "text/plain": [
       "   CustomerID  Recency  Frequency\n",
       "0       18074      373         13\n",
       "1       13747      373          1\n",
       "2       12791      373          2\n",
       "3       17908      373         58\n",
       "4       16583      373         14"
      ]
     },
     "execution_count": 19,
     "metadata": {},
     "output_type": "execute_result"
    }
   ],
   "source": [
    "# Looking at the first five rows\n",
    "user_df.head()"
   ]
  },
  {
   "cell_type": "markdown",
   "metadata": {},
   "source": [
    "Let us plot the frequency distribution of all the frequency using a histogram."
   ]
  },
  {
   "cell_type": "markdown",
   "metadata": {},
   "source": [
    "##### Hint: plt.hist();"
   ]
  },
  {
   "cell_type": "code",
   "execution_count": 21,
   "metadata": {},
   "outputs": [
    {
     "data": {
      "image/png": "[encoded data removed]",
      "text/plain": [
       "<Figure size 432x288 with 1 Axes>"
      ]
     },
     "metadata": {
      "needs_background": "light"
     },
     "output_type": "display_data"
    }
   ],
   "source": [
    "# Plotting a histogram\n",
    "plt.hist(user_df['Frequency'], bins=500);"
   ]
  },
  {
   "cell_type": "markdown",
   "metadata": {},
   "source": [
    "Since the histogram is not clearly outlining the outliers, let us make a scatter plot as well."
   ]
  },
  {
   "cell_type": "markdown",
   "metadata": {},
   "source": [
    "##### Hint: range(user_df.shape[0])"
   ]
  },
  {
   "cell_type": "code",
   "execution_count": 22,
   "metadata": {},
   "outputs": [
    {
     "data": {
      "text/plain": [
       "<matplotlib.collections.PathCollection at 0x163021bfb08>"
      ]
     },
     "execution_count": 22,
     "metadata": {},
     "output_type": "execute_result"
    },
    {
     "data": {
      "image/png": "[encoded data removed]",
      "text/plain": [
       "<Figure size 432x288 with 1 Axes>"
      ]
     },
     "metadata": {
      "needs_background": "light"
     },
     "output_type": "display_data"
    }
   ],
   "source": [
    "# plotting a scatter plot\n",
    "plt.scatter(range(user_df.shape[0]), user_df['Frequency'])"
   ]
  },
  {
   "cell_type": "markdown",
   "metadata": {},
   "source": [
    "We can see that most unique customers have made purchases between 1-1000 times in the online retail store. There are also some outlier customers who have purchased items from the online retail shop for more than 1000 times."
   ]
  },
  {
   "cell_type": "markdown",
   "metadata": {},
   "source": [
    "###### Finding Monetary Value of Customers\n",
    "Finally, let us answer the question - How much did each unique customer spend in total? (Monetary Value)\n",
    "\n",
    "We will engineer a new feature that will help us determine the monetary value of purchase made by each unique customer.\n",
    "For this, we will sum the amount spent by each customer in the cleaned transactional dataset."
   ]
  },
  {
   "cell_type": "code",
   "execution_count": 25,
   "metadata": {},
   "outputs": [
    {
     "data": {
      "text/html": [
       "<div>\n",
       "<style scoped>\n",
       "    .dataframe tbody tr th:only-of-type {\n",
       "        vertical-align: middle;\n",
       "    }\n",
       "\n",
       "    .dataframe tbody tr th {\n",
       "        vertical-align: top;\n",
       "    }\n",
       "\n",
       "    .dataframe thead th {\n",
       "        text-align: right;\n",
       "    }\n",
       "</style>\n",
       "<table border=\"1\" class=\"dataframe\">\n",
       "  <thead>\n",
       "    <tr style=\"text-align: right;\">\n",
       "      <th></th>\n",
       "      <th>CustomerID</th>\n",
       "      <th>InvoiceNo</th>\n",
       "      <th>AmountSpent</th>\n",
       "      <th>InvoiceDate</th>\n",
       "      <th>Country</th>\n",
       "    </tr>\n",
       "  </thead>\n",
       "  <tbody>\n",
       "    <tr>\n",
       "      <td>0</td>\n",
       "      <td>17850</td>\n",
       "      <td>536365</td>\n",
       "      <td>15.30</td>\n",
       "      <td>2010-12-01 08:26:00</td>\n",
       "      <td>United Kingdom</td>\n",
       "    </tr>\n",
       "    <tr>\n",
       "      <td>1</td>\n",
       "      <td>17850</td>\n",
       "      <td>536365</td>\n",
       "      <td>20.34</td>\n",
       "      <td>2010-12-01 08:26:00</td>\n",
       "      <td>United Kingdom</td>\n",
       "    </tr>\n",
       "    <tr>\n",
       "      <td>2</td>\n",
       "      <td>17850</td>\n",
       "      <td>536365</td>\n",
       "      <td>22.00</td>\n",
       "      <td>2010-12-01 08:26:00</td>\n",
       "      <td>United Kingdom</td>\n",
       "    </tr>\n",
       "    <tr>\n",
       "      <td>3</td>\n",
       "      <td>17850</td>\n",
       "      <td>536365</td>\n",
       "      <td>20.34</td>\n",
       "      <td>2010-12-01 08:26:00</td>\n",
       "      <td>United Kingdom</td>\n",
       "    </tr>\n",
       "    <tr>\n",
       "      <td>4</td>\n",
       "      <td>17850</td>\n",
       "      <td>536365</td>\n",
       "      <td>20.34</td>\n",
       "      <td>2010-12-01 08:26:00</td>\n",
       "      <td>United Kingdom</td>\n",
       "    </tr>\n",
       "  </tbody>\n",
       "</table>\n",
       "</div>"
      ],
      "text/plain": [
       "   CustomerID  InvoiceNo  AmountSpent          InvoiceDate         Country\n",
       "0       17850     536365        15.30  2010-12-01 08:26:00  United Kingdom\n",
       "1       17850     536365        20.34  2010-12-01 08:26:00  United Kingdom\n",
       "2       17850     536365        22.00  2010-12-01 08:26:00  United Kingdom\n",
       "3       17850     536365        20.34  2010-12-01 08:26:00  United Kingdom\n",
       "4       17850     536365        20.34  2010-12-01 08:26:00  United Kingdom"
      ]
     },
     "execution_count": 25,
     "metadata": {},
     "output_type": "execute_result"
    }
   ],
   "source": [
    "# Looking at the first five rows\n",
    "customer_df.head()"
   ]
  },
  {
   "cell_type": "markdown",
   "metadata": {},
   "source": [
    "##### Hint: 1. .groupby(' ')[' '].sum().reset_index() => gives df a new index values\n",
    "##### Hint: 2. .rename(      , inplace=True)"
   ]
  },
  {
   "cell_type": "code",
   "execution_count": 28,
   "metadata": {},
   "outputs": [
    {
     "data": {
      "text/html": [
       "<div>\n",
       "<style scoped>\n",
       "    .dataframe tbody tr th:only-of-type {\n",
       "        vertical-align: middle;\n",
       "    }\n",
       "\n",
       "    .dataframe tbody tr th {\n",
       "        vertical-align: top;\n",
       "    }\n",
       "\n",
       "    .dataframe thead th {\n",
       "        text-align: right;\n",
       "    }\n",
       "</style>\n",
       "<table border=\"1\" class=\"dataframe\">\n",
       "  <thead>\n",
       "    <tr style=\"text-align: right;\">\n",
       "      <th></th>\n",
       "      <th>CustomerID</th>\n",
       "      <th>Revenue</th>\n",
       "    </tr>\n",
       "  </thead>\n",
       "  <tbody>\n",
       "    <tr>\n",
       "      <td>0</td>\n",
       "      <td>12346</td>\n",
       "      <td>154367.20</td>\n",
       "    </tr>\n",
       "    <tr>\n",
       "      <td>1</td>\n",
       "      <td>12347</td>\n",
       "      <td>4310.00</td>\n",
       "    </tr>\n",
       "    <tr>\n",
       "      <td>2</td>\n",
       "      <td>12348</td>\n",
       "      <td>1797.24</td>\n",
       "    </tr>\n",
       "    <tr>\n",
       "      <td>3</td>\n",
       "      <td>12349</td>\n",
       "      <td>1757.55</td>\n",
       "    </tr>\n",
       "    <tr>\n",
       "      <td>4</td>\n",
       "      <td>12350</td>\n",
       "      <td>334.40</td>\n",
       "    </tr>\n",
       "  </tbody>\n",
       "</table>\n",
       "</div>"
      ],
      "text/plain": [
       "   CustomerID    Revenue\n",
       "0       12346  154367.20\n",
       "1       12347    4310.00\n",
       "2       12348    1797.24\n",
       "3       12349    1757.55\n",
       "4       12350     334.40"
      ]
     },
     "execution_count": 28,
     "metadata": {},
     "output_type": "execute_result"
    }
   ],
   "source": [
    "# Getting the total amount spent by each customer\n",
    "df_amount = customer_df.groupby('CustomerID')['AmountSpent'].sum().reset_index()\n",
    "\n",
    "# Renaming the column name as Revenue\n",
    "df_amount.rename(columns = {\"AmountSpent\": \"Revenue\"}, inplace=True)\n",
    "\n",
    "# Looking at the first five rows\n",
    "df_amount.head()"
   ]
  },
  {
   "cell_type": "markdown",
   "metadata": {},
   "source": [
    "Merging this DataFrame with the user_df DataFrame on CustomerID."
   ]
  },
  {
   "cell_type": "code",
   "execution_count": 29,
   "metadata": {},
   "outputs": [],
   "source": [
    "# Merge this data to our main dataframe\n",
    "user_df = pd.merge(user_df, df_amount, on='CustomerID')"
   ]
  },
  {
   "cell_type": "code",
   "execution_count": 30,
   "metadata": {},
   "outputs": [
    {
     "data": {
      "text/html": [
       "<div>\n",
       "<style scoped>\n",
       "    .dataframe tbody tr th:only-of-type {\n",
       "        vertical-align: middle;\n",
       "    }\n",
       "\n",
       "    .dataframe tbody tr th {\n",
       "        vertical-align: top;\n",
       "    }\n",
       "\n",
       "    .dataframe thead th {\n",
       "        text-align: right;\n",
       "    }\n",
       "</style>\n",
       "<table border=\"1\" class=\"dataframe\">\n",
       "  <thead>\n",
       "    <tr style=\"text-align: right;\">\n",
       "      <th></th>\n",
       "      <th>CustomerID</th>\n",
       "      <th>Recency</th>\n",
       "      <th>Frequency</th>\n",
       "      <th>Revenue</th>\n",
       "    </tr>\n",
       "  </thead>\n",
       "  <tbody>\n",
       "    <tr>\n",
       "      <td>0</td>\n",
       "      <td>18074</td>\n",
       "      <td>373</td>\n",
       "      <td>13</td>\n",
       "      <td>489.60</td>\n",
       "    </tr>\n",
       "    <tr>\n",
       "      <td>1</td>\n",
       "      <td>13747</td>\n",
       "      <td>373</td>\n",
       "      <td>1</td>\n",
       "      <td>79.60</td>\n",
       "    </tr>\n",
       "    <tr>\n",
       "      <td>2</td>\n",
       "      <td>12791</td>\n",
       "      <td>373</td>\n",
       "      <td>2</td>\n",
       "      <td>192.60</td>\n",
       "    </tr>\n",
       "    <tr>\n",
       "      <td>3</td>\n",
       "      <td>17908</td>\n",
       "      <td>373</td>\n",
       "      <td>58</td>\n",
       "      <td>243.28</td>\n",
       "    </tr>\n",
       "    <tr>\n",
       "      <td>4</td>\n",
       "      <td>16583</td>\n",
       "      <td>373</td>\n",
       "      <td>14</td>\n",
       "      <td>233.45</td>\n",
       "    </tr>\n",
       "  </tbody>\n",
       "</table>\n",
       "</div>"
      ],
      "text/plain": [
       "   CustomerID  Recency  Frequency  Revenue\n",
       "0       18074      373         13   489.60\n",
       "1       13747      373          1    79.60\n",
       "2       12791      373          2   192.60\n",
       "3       17908      373         58   243.28\n",
       "4       16583      373         14   233.45"
      ]
     },
     "execution_count": 30,
     "metadata": {},
     "output_type": "execute_result"
    }
   ],
   "source": [
    "# Looking at the first five rows\n",
    "user_df.head()"
   ]
  },
  {
   "cell_type": "markdown",
   "metadata": {},
   "source": [
    "Let us plot the frequency distribution of the total amount spent using a histogram."
   ]
  },
  {
   "cell_type": "code",
   "execution_count": 31,
   "metadata": {},
   "outputs": [
    {
     "data": {
      "image/png": "[encoded data removed]",
      "text/plain": [
       "<Figure size 432x288 with 1 Axes>"
      ]
     },
     "metadata": {
      "needs_background": "light"
     },
     "output_type": "display_data"
    }
   ],
   "source": [
    "# Plotting a histogram\n",
    "plt.hist(user_df['Revenue'], bins=100);"
   ]
  },
  {
   "cell_type": "markdown",
   "metadata": {},
   "source": [
    "Since the histogram is not clearly outlining the outliers, let us make a scatter plot as well."
   ]
  },
  {
   "cell_type": "code",
   "execution_count": 32,
   "metadata": {},
   "outputs": [
    {
     "data": {
      "text/plain": [
       "<matplotlib.collections.PathCollection at 0x163023e8988>"
      ]
     },
     "execution_count": 32,
     "metadata": {},
     "output_type": "execute_result"
    },
    {
     "data": {
      "image/png": "[encoded data removed]",
      "text/plain": [
       "<Figure size 432x288 with 1 Axes>"
      ]
     },
     "metadata": {
      "needs_background": "light"
     },
     "output_type": "display_data"
    }
   ],
   "source": [
    "# Plotting a scatter plot\n",
    "plt.scatter(range(user_df.shape[0]), user_df['Revenue'])"
   ]
  },
  {
   "cell_type": "markdown",
   "metadata": {},
   "source": [
    "It can be seen that most customers have made a purchase within 50,000 but there are some outlier cases who have made purchases over 50,000.\n",
    "\n",
    "Great! We now have the answer to all three of the questions.\n",
    "\n",
    "Let us save the dataset we've generated till now and perform customer profiling and segmentation in the next section."
   ]
  },
  {
   "cell_type": "markdown",
   "metadata": {},
   "source": [
    "##### Hint:  header, index"
   ]
  },
  {
   "cell_type": "code",
   "execution_count": 34,
   "metadata": {},
   "outputs": [],
   "source": [
    "# saving as a new CSV file\n",
    "user_df.to_csv('data/user_dataset.csv', header=True, index=False)"
   ]
  },
  {
   "cell_type": "markdown",
   "metadata": {},
   "source": [
    "##### 9. Customer Profiling and Segmentation - Theory\n",
    "\n",
    "- Customer profiling and segmentation is one of the best ways to learn about the characterstics of customers.\n",
    "- Understanding and grouping your customers aids in serving their needs better which in turn helps in the growth of the business.\n",
    "- Finding the similarities abd differences between your customers is crucial in identifying the customer's relationship with the business.\n",
    "- It helps to determine who the customers are, what they do, what are their interests and what choices do they make collectively.\n",
    "- The first and foremost step while profiling and segementing your customers is to determine what metric makes sense for your business.\n",
    "- It requires a combination of facts and intuition to decide what attributes can help best describe your customers.\n",
    "- For an online store, the gender of a customer of the time of the day might be an important metric that determines what products a customer buys.\n",
    "- However, for an ailine company, the metric might be completely different such as the frequency of the travel that determines how valuable the customer is.\n",
    "- A common method to profile and segment customers in any business is to look at their amount, recency and frequency of purchase.\n",
    "- When all of these three metirces are analyzed, it is termed as RFM analysis.\n",
    "- R = Recency, F = Frequency, M = Monetary Value\n",
    "- RFM Analysis is a powerful method for customer profiling and segmentation since it looks at three different metrics in light of each other.\n",
    "- It groups customers based on their latest activity, frequency of transactions, and revenue generated while interacting with the business.\n",
    "- Recency(R): the most recent purchase within a time frame.\n",
    "- Frequency(F): the number of purchases within a time frame.\n",
    "- Monetary value(M): the total value of purchase amount, i.e., the revenue within a time frame."
   ]
  },
  {
   "cell_type": "markdown",
   "metadata": {},
   "source": [
    "###### Segmentation of customers based on RFM Analysis\n",
    "\n",
    "- Low Value: Less active than others, not very frequent buyer/visitor and generates very low or no revenue.\n",
    "\n",
    "- Mid Value: Moderately active, less frequent buyer/visitor and generates moderate revenue.\n",
    "\n",
    "- High Value: Highly valuable group of customers that are extremely active, frequent buyer/visitor and generate hight revenue."
   ]
  },
  {
   "cell_type": "markdown",
   "metadata": {},
   "source": [
    "- To wrap up, proper customer profiling and segmentation allow a business to:\n",
    "    - Identify the value of customers\n",
    "    - Improve marketing strategies\n",
    "    - Predict future purchase patterns\n",
    "    - Develop better products/services, etc."
   ]
  },
  {
   "cell_type": "markdown",
   "metadata": {},
   "source": [
    "In this section we will use RFM information of customers to profile and segment them. Our choice of algorithm for this will be the K-Means clustering algorithm.\n",
    "\n",
    "The K-Means clustering algorithm is a Machine Learning algorithm that attempts to split a given data set into a fixed number(K) of clusters.\n",
    "\n",
    "We will require the scikit-learn library to use the K-Means Clustering algorithm. You can install the library using the following command:"
   ]
  },
  {
   "cell_type": "code",
   "execution_count": 2,
   "metadata": {},
   "outputs": [
    {
     "name": "stdout",
     "output_type": "stream",
     "text": [
      "Requirement already satisfied: scikit-learn in c:\\users\\krishna nepali\\anaconda3\\lib\\site-packages (0.21.3)\n",
      "Requirement already satisfied: numpy>=1.11.0 in c:\\users\\krishna nepali\\anaconda3\\lib\\site-packages (from scikit-learn) (1.16.5)\n",
      "Requirement already satisfied: joblib>=0.11 in c:\\users\\krishna nepali\\anaconda3\\lib\\site-packages (from scikit-learn) (0.13.2)\n",
      "Requirement already satisfied: scipy>=0.17.0 in c:\\users\\krishna nepali\\anaconda3\\lib\\site-packages (from scikit-learn) (1.3.1)\n"
     ]
    }
   ],
   "source": [
    "!pip install scikit-learn"
   ]
  },
  {
   "cell_type": "code",
   "execution_count": 1,
   "metadata": {},
   "outputs": [],
   "source": [
    "import pandas as pd\n",
    "import matplotlib.pyplot as plt\n",
    "from sklearn.cluster import KMeans\n",
    "\n",
    "%matplotlib inline"
   ]
  },
  {
   "cell_type": "markdown",
   "metadata": {},
   "source": [
    "Next, importing the CSV file called user_dataset.csv which contains information about the recency, frequency and monetary value of customers."
   ]
  },
  {
   "cell_type": "code",
   "execution_count": 2,
   "metadata": {},
   "outputs": [],
   "source": [
    "user_df = pd.read_csv('data/user_dataset.csv')"
   ]
  },
  {
   "cell_type": "code",
   "execution_count": 5,
   "metadata": {},
   "outputs": [
    {
     "data": {
      "text/html": [
       "<div>\n",
       "<style scoped>\n",
       "    .dataframe tbody tr th:only-of-type {\n",
       "        vertical-align: middle;\n",
       "    }\n",
       "\n",
       "    .dataframe tbody tr th {\n",
       "        vertical-align: top;\n",
       "    }\n",
       "\n",
       "    .dataframe thead th {\n",
       "        text-align: right;\n",
       "    }\n",
       "</style>\n",
       "<table border=\"1\" class=\"dataframe\">\n",
       "  <thead>\n",
       "    <tr style=\"text-align: right;\">\n",
       "      <th></th>\n",
       "      <th>CustomerID</th>\n",
       "      <th>Recency</th>\n",
       "      <th>Frequency</th>\n",
       "      <th>Revenue</th>\n",
       "    </tr>\n",
       "  </thead>\n",
       "  <tbody>\n",
       "    <tr>\n",
       "      <td>0</td>\n",
       "      <td>18074</td>\n",
       "      <td>373</td>\n",
       "      <td>13</td>\n",
       "      <td>489.60</td>\n",
       "    </tr>\n",
       "    <tr>\n",
       "      <td>1</td>\n",
       "      <td>13747</td>\n",
       "      <td>373</td>\n",
       "      <td>1</td>\n",
       "      <td>79.60</td>\n",
       "    </tr>\n",
       "    <tr>\n",
       "      <td>2</td>\n",
       "      <td>12791</td>\n",
       "      <td>373</td>\n",
       "      <td>2</td>\n",
       "      <td>192.60</td>\n",
       "    </tr>\n",
       "    <tr>\n",
       "      <td>3</td>\n",
       "      <td>17908</td>\n",
       "      <td>373</td>\n",
       "      <td>58</td>\n",
       "      <td>243.28</td>\n",
       "    </tr>\n",
       "    <tr>\n",
       "      <td>4</td>\n",
       "      <td>16583</td>\n",
       "      <td>373</td>\n",
       "      <td>14</td>\n",
       "      <td>233.45</td>\n",
       "    </tr>\n",
       "  </tbody>\n",
       "</table>\n",
       "</div>"
      ],
      "text/plain": [
       "   CustomerID  Recency  Frequency  Revenue\n",
       "0       18074      373         13   489.60\n",
       "1       13747      373          1    79.60\n",
       "2       12791      373          2   192.60\n",
       "3       17908      373         58   243.28\n",
       "4       16583      373         14   233.45"
      ]
     },
     "execution_count": 5,
     "metadata": {},
     "output_type": "execute_result"
    }
   ],
   "source": [
    "user_df.head()"
   ]
  },
  {
   "cell_type": "code",
   "execution_count": 6,
   "metadata": {},
   "outputs": [
    {
     "data": {
      "text/plain": [
       "(4372, 4)"
      ]
     },
     "execution_count": 6,
     "metadata": {},
     "output_type": "execute_result"
    }
   ],
   "source": [
    "user_df.shape"
   ]
  },
  {
   "cell_type": "markdown",
   "metadata": {},
   "source": [
    "Next, let us initiate the K-Means clustering algorithm with a total number of 4 clusters.\n",
    "\n",
    "Note that, there are different method to determine how many clusters should be made in a dataset but we will not get into that for now."
   ]
  },
  {
   "cell_type": "code",
   "execution_count": 3,
   "metadata": {},
   "outputs": [],
   "source": [
    "# Build 4 clusters\n",
    "kmeans = KMeans(n_clusters=4)"
   ]
  },
  {
   "cell_type": "markdown",
   "metadata": {},
   "source": [
    "##### Segmenting Customers based on Recency\n",
    "\n",
    "we will now fit the model object into the recency values in out dataframe."
   ]
  },
  {
   "cell_type": "code",
   "execution_count": 4,
   "metadata": {},
   "outputs": [
    {
     "data": {
      "text/plain": [
       "KMeans(algorithm='auto', copy_x=True, init='k-means++', max_iter=300,\n",
       "       n_clusters=4, n_init=10, n_jobs=None, precompute_distances='auto',\n",
       "       random_state=None, tol=0.0001, verbose=0)"
      ]
     },
     "execution_count": 4,
     "metadata": {},
     "output_type": "execute_result"
    }
   ],
   "source": [
    "# Fitting the model\n",
    "kmeans.fit(user_df[['Recency']])"
   ]
  },
  {
   "cell_type": "markdown",
   "metadata": {},
   "source": [
    "Predicting the value of cluster and saving them as a new column RecencyCluster in the dataframe."
   ]
  },
  {
   "cell_type": "code",
   "execution_count": 5,
   "metadata": {},
   "outputs": [],
   "source": [
    "# Predicting clusters using the fitted model\n",
    "user_df['RecencyCluster'] = kmeans.predict(user_df[['Recency']])"
   ]
  },
  {
   "cell_type": "code",
   "execution_count": 6,
   "metadata": {},
   "outputs": [
    {
     "data": {
      "text/html": [
       "<div>\n",
       "<style scoped>\n",
       "    .dataframe tbody tr th:only-of-type {\n",
       "        vertical-align: middle;\n",
       "    }\n",
       "\n",
       "    .dataframe tbody tr th {\n",
       "        vertical-align: top;\n",
       "    }\n",
       "\n",
       "    .dataframe thead th {\n",
       "        text-align: right;\n",
       "    }\n",
       "</style>\n",
       "<table border=\"1\" class=\"dataframe\">\n",
       "  <thead>\n",
       "    <tr style=\"text-align: right;\">\n",
       "      <th></th>\n",
       "      <th>CustomerID</th>\n",
       "      <th>Recency</th>\n",
       "      <th>Frequency</th>\n",
       "      <th>Revenue</th>\n",
       "      <th>RecencyCluster</th>\n",
       "    </tr>\n",
       "  </thead>\n",
       "  <tbody>\n",
       "    <tr>\n",
       "      <td>0</td>\n",
       "      <td>18074</td>\n",
       "      <td>373</td>\n",
       "      <td>13</td>\n",
       "      <td>489.60</td>\n",
       "      <td>1</td>\n",
       "    </tr>\n",
       "    <tr>\n",
       "      <td>1</td>\n",
       "      <td>13747</td>\n",
       "      <td>373</td>\n",
       "      <td>1</td>\n",
       "      <td>79.60</td>\n",
       "      <td>1</td>\n",
       "    </tr>\n",
       "    <tr>\n",
       "      <td>2</td>\n",
       "      <td>12791</td>\n",
       "      <td>373</td>\n",
       "      <td>2</td>\n",
       "      <td>192.60</td>\n",
       "      <td>1</td>\n",
       "    </tr>\n",
       "    <tr>\n",
       "      <td>3</td>\n",
       "      <td>17908</td>\n",
       "      <td>373</td>\n",
       "      <td>58</td>\n",
       "      <td>243.28</td>\n",
       "      <td>1</td>\n",
       "    </tr>\n",
       "    <tr>\n",
       "      <td>4</td>\n",
       "      <td>16583</td>\n",
       "      <td>373</td>\n",
       "      <td>14</td>\n",
       "      <td>233.45</td>\n",
       "      <td>1</td>\n",
       "    </tr>\n",
       "  </tbody>\n",
       "</table>\n",
       "</div>"
      ],
      "text/plain": [
       "   CustomerID  Recency  Frequency  Revenue  RecencyCluster\n",
       "0       18074      373         13   489.60               1\n",
       "1       13747      373          1    79.60               1\n",
       "2       12791      373          2   192.60               1\n",
       "3       17908      373         58   243.28               1\n",
       "4       16583      373         14   233.45               1"
      ]
     },
     "execution_count": 6,
     "metadata": {},
     "output_type": "execute_result"
    }
   ],
   "source": [
    "user_df.head()"
   ]
  },
  {
   "cell_type": "markdown",
   "metadata": {},
   "source": [
    "We have now segmented our customers based on Recency into 4 different clusters. Let us now see the distribution of data in the 4 cluseters."
   ]
  },
  {
   "cell_type": "code",
   "execution_count": 7,
   "metadata": {},
   "outputs": [
    {
     "data": {
      "text/plain": [
       "<matplotlib.axes._subplots.AxesSubplot at 0x237fd0b7208>"
      ]
     },
     "execution_count": 7,
     "metadata": {},
     "output_type": "execute_result"
    },
    {
     "data": {
      "image/png": "[encoded data removed]",
      "text/plain": [
       "<Figure size 432x288 with 1 Axes>"
      ]
     },
     "metadata": {
      "needs_background": "light"
     },
     "output_type": "display_data"
    }
   ],
   "source": [
    "# Plotting the counts of data in each cluster\n",
    "user_df['RecencyCluster'].value_counts().plot.bar()"
   ]
  },
  {
   "cell_type": "markdown",
   "metadata": {},
   "source": [
    "We can see that the data has been distrubuted into different clusters namely 0,1,2, and 3. However, the K-Means Algorithm does not differentiate the ranking of clusters based on their order. We will hence order them based on thier mean values."
   ]
  },
  {
   "cell_type": "code",
   "execution_count": 8,
   "metadata": {},
   "outputs": [],
   "source": [
    "# Create a new dataframe by grouping the dataframe based on different cluster values and find the mean\n",
    "df_new = user_df.groupby(\"RecencyCluster\")[\"Recency\"].mean().reset_index()"
   ]
  },
  {
   "cell_type": "code",
   "execution_count": 9,
   "metadata": {},
   "outputs": [
    {
     "data": {
      "text/html": [
       "<div>\n",
       "<style scoped>\n",
       "    .dataframe tbody tr th:only-of-type {\n",
       "        vertical-align: middle;\n",
       "    }\n",
       "\n",
       "    .dataframe tbody tr th {\n",
       "        vertical-align: top;\n",
       "    }\n",
       "\n",
       "    .dataframe thead th {\n",
       "        text-align: right;\n",
       "    }\n",
       "</style>\n",
       "<table border=\"1\" class=\"dataframe\">\n",
       "  <thead>\n",
       "    <tr style=\"text-align: right;\">\n",
       "      <th></th>\n",
       "      <th>RecencyCluster</th>\n",
       "      <th>Recency</th>\n",
       "    </tr>\n",
       "  </thead>\n",
       "  <tbody>\n",
       "    <tr>\n",
       "      <td>0</td>\n",
       "      <td>0</td>\n",
       "      <td>77.814920</td>\n",
       "    </tr>\n",
       "    <tr>\n",
       "      <td>1</td>\n",
       "      <td>1</td>\n",
       "      <td>305.363806</td>\n",
       "    </tr>\n",
       "    <tr>\n",
       "      <td>2</td>\n",
       "      <td>2</td>\n",
       "      <td>17.397311</td>\n",
       "    </tr>\n",
       "    <tr>\n",
       "      <td>3</td>\n",
       "      <td>3</td>\n",
       "      <td>184.598387</td>\n",
       "    </tr>\n",
       "  </tbody>\n",
       "</table>\n",
       "</div>"
      ],
      "text/plain": [
       "   RecencyCluster     Recency\n",
       "0               0   77.814920\n",
       "1               1  305.363806\n",
       "2               2   17.397311\n",
       "3               3  184.598387"
      ]
     },
     "execution_count": 9,
     "metadata": {},
     "output_type": "execute_result"
    }
   ],
   "source": [
    "df_new"
   ]
  },
  {
   "cell_type": "markdown",
   "metadata": {},
   "source": [
    "We will rename the second column name as RecencyMean to avoid confusion as it is the mean of all the recency values in each cluster."
   ]
  },
  {
   "cell_type": "code",
   "execution_count": 10,
   "metadata": {},
   "outputs": [],
   "source": [
    "# Renaming the column\n",
    "df_new.rename(columns={\"Recency\": \"RecencyMean\"}, inplace=True)"
   ]
  },
  {
   "cell_type": "markdown",
   "metadata": {},
   "source": [
    "Let us now sort the values in our dataframe in ascending order of the values of RecencyMean. This is due to the fact that the cluster with the highest values of Recency should have the lowest score. i.e. 0.\n",
    "\n",
    "Note: For Frequecny and Revenue, we will be ordering the values in ascending order as their values are directly proportional to the score, i.e., a customer with a high frequency or revenue should have a high score."
   ]
  },
  {
   "cell_type": "code",
   "execution_count": 11,
   "metadata": {},
   "outputs": [
    {
     "data": {
      "text/html": [
       "<div>\n",
       "<style scoped>\n",
       "    .dataframe tbody tr th:only-of-type {\n",
       "        vertical-align: middle;\n",
       "    }\n",
       "\n",
       "    .dataframe tbody tr th {\n",
       "        vertical-align: top;\n",
       "    }\n",
       "\n",
       "    .dataframe thead th {\n",
       "        text-align: right;\n",
       "    }\n",
       "</style>\n",
       "<table border=\"1\" class=\"dataframe\">\n",
       "  <thead>\n",
       "    <tr style=\"text-align: right;\">\n",
       "      <th></th>\n",
       "      <th>RecencyCluster</th>\n",
       "      <th>RecencyMean</th>\n",
       "    </tr>\n",
       "  </thead>\n",
       "  <tbody>\n",
       "    <tr>\n",
       "      <td>0</td>\n",
       "      <td>1</td>\n",
       "      <td>305.363806</td>\n",
       "    </tr>\n",
       "    <tr>\n",
       "      <td>1</td>\n",
       "      <td>3</td>\n",
       "      <td>184.598387</td>\n",
       "    </tr>\n",
       "    <tr>\n",
       "      <td>2</td>\n",
       "      <td>0</td>\n",
       "      <td>77.814920</td>\n",
       "    </tr>\n",
       "    <tr>\n",
       "      <td>3</td>\n",
       "      <td>2</td>\n",
       "      <td>17.397311</td>\n",
       "    </tr>\n",
       "  </tbody>\n",
       "</table>\n",
       "</div>"
      ],
      "text/plain": [
       "   RecencyCluster  RecencyMean\n",
       "0               1   305.363806\n",
       "1               3   184.598387\n",
       "2               0    77.814920\n",
       "3               2    17.397311"
      ]
     },
     "execution_count": 11,
     "metadata": {},
     "output_type": "execute_result"
    }
   ],
   "source": [
    "# Sort the values\n",
    "df_new = df_new.sort_values(by = \"RecencyMean\", ascending=False).reset_index(drop=True)\n",
    "df_new"
   ]
  },
  {
   "cell_type": "markdown",
   "metadata": {},
   "source": [
    "We now have the required value of scores for each of the cluster in the index of out dataframe. We will save them as a new column called RecencyScore."
   ]
  },
  {
   "cell_type": "code",
   "execution_count": 12,
   "metadata": {},
   "outputs": [],
   "source": [
    "# Create a new column called index with the index values\n",
    "df_new['RecencyScore'] = df_new.index"
   ]
  },
  {
   "cell_type": "code",
   "execution_count": 13,
   "metadata": {},
   "outputs": [
    {
     "data": {
      "text/html": [
       "<div>\n",
       "<style scoped>\n",
       "    .dataframe tbody tr th:only-of-type {\n",
       "        vertical-align: middle;\n",
       "    }\n",
       "\n",
       "    .dataframe tbody tr th {\n",
       "        vertical-align: top;\n",
       "    }\n",
       "\n",
       "    .dataframe thead th {\n",
       "        text-align: right;\n",
       "    }\n",
       "</style>\n",
       "<table border=\"1\" class=\"dataframe\">\n",
       "  <thead>\n",
       "    <tr style=\"text-align: right;\">\n",
       "      <th></th>\n",
       "      <th>RecencyCluster</th>\n",
       "      <th>RecencyMean</th>\n",
       "      <th>RecencyScore</th>\n",
       "    </tr>\n",
       "  </thead>\n",
       "  <tbody>\n",
       "    <tr>\n",
       "      <td>0</td>\n",
       "      <td>1</td>\n",
       "      <td>305.363806</td>\n",
       "      <td>0</td>\n",
       "    </tr>\n",
       "    <tr>\n",
       "      <td>1</td>\n",
       "      <td>3</td>\n",
       "      <td>184.598387</td>\n",
       "      <td>1</td>\n",
       "    </tr>\n",
       "    <tr>\n",
       "      <td>2</td>\n",
       "      <td>0</td>\n",
       "      <td>77.814920</td>\n",
       "      <td>2</td>\n",
       "    </tr>\n",
       "    <tr>\n",
       "      <td>3</td>\n",
       "      <td>2</td>\n",
       "      <td>17.397311</td>\n",
       "      <td>3</td>\n",
       "    </tr>\n",
       "  </tbody>\n",
       "</table>\n",
       "</div>"
      ],
      "text/plain": [
       "   RecencyCluster  RecencyMean  RecencyScore\n",
       "0               1   305.363806             0\n",
       "1               3   184.598387             1\n",
       "2               0    77.814920             2\n",
       "3               2    17.397311             3"
      ]
     },
     "execution_count": 13,
     "metadata": {},
     "output_type": "execute_result"
    }
   ],
   "source": [
    "df_new"
   ]
  },
  {
   "cell_type": "markdown",
   "metadata": {},
   "source": [
    "We will now merge the original user dataframe user_df with the new dataframe to add the value of RecencyScore into our dataframe."
   ]
  },
  {
   "cell_type": "code",
   "execution_count": 14,
   "metadata": {},
   "outputs": [],
   "source": [
    "# Create a final dataframe by merging our original dataframe and the new dataframe\n",
    "df_user = pd.merge(user_df, df_new[['RecencyCluster','RecencyScore']], on = 'RecencyCluster')\n",
    "\n",
    "# Remove the column for cluster\n",
    "df_user.drop('RecencyCluster', axis=1, inplace=True)"
   ]
  },
  {
   "cell_type": "code",
   "execution_count": 15,
   "metadata": {},
   "outputs": [
    {
     "data": {
      "text/html": [
       "<div>\n",
       "<style scoped>\n",
       "    .dataframe tbody tr th:only-of-type {\n",
       "        vertical-align: middle;\n",
       "    }\n",
       "\n",
       "    .dataframe tbody tr th {\n",
       "        vertical-align: top;\n",
       "    }\n",
       "\n",
       "    .dataframe thead th {\n",
       "        text-align: right;\n",
       "    }\n",
       "</style>\n",
       "<table border=\"1\" class=\"dataframe\">\n",
       "  <thead>\n",
       "    <tr style=\"text-align: right;\">\n",
       "      <th></th>\n",
       "      <th>CustomerID</th>\n",
       "      <th>Recency</th>\n",
       "      <th>Frequency</th>\n",
       "      <th>Revenue</th>\n",
       "      <th>RecencyScore</th>\n",
       "    </tr>\n",
       "  </thead>\n",
       "  <tbody>\n",
       "    <tr>\n",
       "      <td>0</td>\n",
       "      <td>18074</td>\n",
       "      <td>373</td>\n",
       "      <td>13</td>\n",
       "      <td>489.60</td>\n",
       "      <td>0</td>\n",
       "    </tr>\n",
       "    <tr>\n",
       "      <td>1</td>\n",
       "      <td>13747</td>\n",
       "      <td>373</td>\n",
       "      <td>1</td>\n",
       "      <td>79.60</td>\n",
       "      <td>0</td>\n",
       "    </tr>\n",
       "    <tr>\n",
       "      <td>2</td>\n",
       "      <td>12791</td>\n",
       "      <td>373</td>\n",
       "      <td>2</td>\n",
       "      <td>192.60</td>\n",
       "      <td>0</td>\n",
       "    </tr>\n",
       "    <tr>\n",
       "      <td>3</td>\n",
       "      <td>17908</td>\n",
       "      <td>373</td>\n",
       "      <td>58</td>\n",
       "      <td>243.28</td>\n",
       "      <td>0</td>\n",
       "    </tr>\n",
       "    <tr>\n",
       "      <td>4</td>\n",
       "      <td>16583</td>\n",
       "      <td>373</td>\n",
       "      <td>14</td>\n",
       "      <td>233.45</td>\n",
       "      <td>0</td>\n",
       "    </tr>\n",
       "  </tbody>\n",
       "</table>\n",
       "</div>"
      ],
      "text/plain": [
       "   CustomerID  Recency  Frequency  Revenue  RecencyScore\n",
       "0       18074      373         13   489.60             0\n",
       "1       13747      373          1    79.60             0\n",
       "2       12791      373          2   192.60             0\n",
       "3       17908      373         58   243.28             0\n",
       "4       16583      373         14   233.45             0"
      ]
     },
     "execution_count": 15,
     "metadata": {},
     "output_type": "execute_result"
    }
   ],
   "source": [
    "df_user.head()"
   ]
  },
  {
   "cell_type": "markdown",
   "metadata": {},
   "source": [
    "Let us also view some of the statistical metrics of the clusters."
   ]
  },
  {
   "cell_type": "code",
   "execution_count": 16,
   "metadata": {},
   "outputs": [
    {
     "data": {
      "text/html": [
       "<div>\n",
       "<style scoped>\n",
       "    .dataframe tbody tr th:only-of-type {\n",
       "        vertical-align: middle;\n",
       "    }\n",
       "\n",
       "    .dataframe tbody tr th {\n",
       "        vertical-align: top;\n",
       "    }\n",
       "\n",
       "    .dataframe thead th {\n",
       "        text-align: right;\n",
       "    }\n",
       "</style>\n",
       "<table border=\"1\" class=\"dataframe\">\n",
       "  <thead>\n",
       "    <tr style=\"text-align: right;\">\n",
       "      <th></th>\n",
       "      <th>count</th>\n",
       "      <th>mean</th>\n",
       "      <th>std</th>\n",
       "      <th>min</th>\n",
       "      <th>25%</th>\n",
       "      <th>50%</th>\n",
       "      <th>75%</th>\n",
       "      <th>max</th>\n",
       "    </tr>\n",
       "    <tr>\n",
       "      <th>RecencyScore</th>\n",
       "      <th></th>\n",
       "      <th></th>\n",
       "      <th></th>\n",
       "      <th></th>\n",
       "      <th></th>\n",
       "      <th></th>\n",
       "      <th></th>\n",
       "      <th></th>\n",
       "    </tr>\n",
       "  </thead>\n",
       "  <tbody>\n",
       "    <tr>\n",
       "      <td>0</td>\n",
       "      <td>536.0</td>\n",
       "      <td>305.363806</td>\n",
       "      <td>40.645494</td>\n",
       "      <td>245.0</td>\n",
       "      <td>268.0</td>\n",
       "      <td>301.0</td>\n",
       "      <td>336.0</td>\n",
       "      <td>373.0</td>\n",
       "    </tr>\n",
       "    <tr>\n",
       "      <td>1</td>\n",
       "      <td>620.0</td>\n",
       "      <td>184.598387</td>\n",
       "      <td>32.161271</td>\n",
       "      <td>132.0</td>\n",
       "      <td>156.0</td>\n",
       "      <td>184.0</td>\n",
       "      <td>212.0</td>\n",
       "      <td>244.0</td>\n",
       "    </tr>\n",
       "    <tr>\n",
       "      <td>2</td>\n",
       "      <td>1059.0</td>\n",
       "      <td>77.814920</td>\n",
       "      <td>22.830097</td>\n",
       "      <td>48.0</td>\n",
       "      <td>59.0</td>\n",
       "      <td>73.0</td>\n",
       "      <td>93.5</td>\n",
       "      <td>131.0</td>\n",
       "    </tr>\n",
       "    <tr>\n",
       "      <td>3</td>\n",
       "      <td>2157.0</td>\n",
       "      <td>17.397311</td>\n",
       "      <td>13.188805</td>\n",
       "      <td>0.0</td>\n",
       "      <td>6.0</td>\n",
       "      <td>16.0</td>\n",
       "      <td>28.0</td>\n",
       "      <td>47.0</td>\n",
       "    </tr>\n",
       "  </tbody>\n",
       "</table>\n",
       "</div>"
      ],
      "text/plain": [
       "               count        mean        std    min    25%    50%    75%    max\n",
       "RecencyScore                                                                  \n",
       "0              536.0  305.363806  40.645494  245.0  268.0  301.0  336.0  373.0\n",
       "1              620.0  184.598387  32.161271  132.0  156.0  184.0  212.0  244.0\n",
       "2             1059.0   77.814920  22.830097   48.0   59.0   73.0   93.5  131.0\n",
       "3             2157.0   17.397311  13.188805    0.0    6.0   16.0   28.0   47.0"
      ]
     },
     "execution_count": 16,
     "metadata": {},
     "output_type": "execute_result"
    }
   ],
   "source": [
    "# See details of each cluster\n",
    "df_user.groupby('RecencyScore')['Recency'].describe()"
   ]
  },
  {
   "cell_type": "markdown",
   "metadata": {},
   "source": [
    "##### Segmenting Customers based on Frequency\n",
    "\n",
    "We will now fit the model object into the frequency values in our dataframe."
   ]
  },
  {
   "cell_type": "code",
   "execution_count": 17,
   "metadata": {},
   "outputs": [
    {
     "data": {
      "text/plain": [
       "KMeans(algorithm='auto', copy_x=True, init='k-means++', max_iter=300,\n",
       "       n_clusters=4, n_init=10, n_jobs=None, precompute_distances='auto',\n",
       "       random_state=None, tol=0.0001, verbose=0)"
      ]
     },
     "execution_count": 17,
     "metadata": {},
     "output_type": "execute_result"
    }
   ],
   "source": [
    "# Fitting the model\n",
    "kmeans.fit(df_user[['Frequency']])"
   ]
  },
  {
   "cell_type": "markdown",
   "metadata": {},
   "source": [
    "Predicting the value of clusters and saving them as a new column FrequencyCluster in the dataframe."
   ]
  },
  {
   "cell_type": "code",
   "execution_count": 18,
   "metadata": {},
   "outputs": [],
   "source": [
    "# Predicting clusters using the fitted model\n",
    "df_user['FrequencyCluster'] = kmeans.predict(df_user[['Frequency']])"
   ]
  },
  {
   "cell_type": "markdown",
   "metadata": {},
   "source": [
    "We have now segmented our customers based on Frequency into 4 different clusters. Let us now see the distribution of data in the 4 clusters."
   ]
  },
  {
   "cell_type": "code",
   "execution_count": 20,
   "metadata": {},
   "outputs": [
    {
     "data": {
      "text/plain": [
       "<matplotlib.axes._subplots.AxesSubplot at 0x237fd20d7c8>"
      ]
     },
     "execution_count": 20,
     "metadata": {},
     "output_type": "execute_result"
    },
    {
     "data": {
      "image/png": "[encoded data removed]",
      "text/plain": [
       "<Figure size 432x288 with 1 Axes>"
      ]
     },
     "metadata": {
      "needs_background": "light"
     },
     "output_type": "display_data"
    }
   ],
   "source": [
    "# Plotting the counts of data in each cluster\n",
    "df_user['FrequencyCluster'].value_counts().plot.bar()"
   ]
  },
  {
   "cell_type": "markdown",
   "metadata": {},
   "source": [
    "We can see theat the data has been distributed into different clusters namely 0,1,2, and 3. However, the K-Means Algorithm does not differentiate the ranking of clusters based on their order. We will again order them using the function below."
   ]
  },
  {
   "cell_type": "code",
   "execution_count": 22,
   "metadata": {},
   "outputs": [],
   "source": [
    "# Ordering cluster numbers\n",
    "def order_cluster(cluster_name, column_name, df, ascending):\n",
    "    \"\"\"\n",
    "    Order clusters based on their mean values.\n",
    "    \"\"\"\n",
    "    \n",
    "    # Create a new dataframe by grouping the dataframe based on different cluster values and find the mean.\n",
    "    df_new = df.groupby(cluster_name)[column_name].mean().reset_index()\n",
    "    \n",
    "    # Sort the values\n",
    "    df_new = df_new.sort_values(by=column_name, ascending=ascending).reset_index(drop=True)\n",
    "    \n",
    "    # Create a new column with the index value as Score\n",
    "    new_column = column_name + \"Score\"\n",
    "    df_new[new_column] = df_new.index\n",
    "    \n",
    "    # Create a final dataframe by merging our original dataframe and the new dataframe\n",
    "    df_final = pd.merge(df,df_new[[cluster_name, new_column]], on=cluster_name)\n",
    "    \n",
    "    # Remove the column for cluster\n",
    "    df_final.drop(cluster_name, axis=1, inplace=True)\n",
    "    \n",
    "    return df_final"
   ]
  },
  {
   "cell_type": "code",
   "execution_count": 23,
   "metadata": {},
   "outputs": [],
   "source": [
    "# Order the frequency cluster\n",
    "df_user = order_cluster('FrequencyCluster', 'Frequency', df_user, True)"
   ]
  },
  {
   "cell_type": "code",
   "execution_count": 24,
   "metadata": {},
   "outputs": [
    {
     "data": {
      "text/html": [
       "<div>\n",
       "<style scoped>\n",
       "    .dataframe tbody tr th:only-of-type {\n",
       "        vertical-align: middle;\n",
       "    }\n",
       "\n",
       "    .dataframe tbody tr th {\n",
       "        vertical-align: top;\n",
       "    }\n",
       "\n",
       "    .dataframe thead th {\n",
       "        text-align: right;\n",
       "    }\n",
       "</style>\n",
       "<table border=\"1\" class=\"dataframe\">\n",
       "  <thead>\n",
       "    <tr style=\"text-align: right;\">\n",
       "      <th></th>\n",
       "      <th>CustomerID</th>\n",
       "      <th>Recency</th>\n",
       "      <th>Frequency</th>\n",
       "      <th>Revenue</th>\n",
       "      <th>RecencyScore</th>\n",
       "      <th>FrequencyScore</th>\n",
       "    </tr>\n",
       "  </thead>\n",
       "  <tbody>\n",
       "    <tr>\n",
       "      <td>0</td>\n",
       "      <td>18074</td>\n",
       "      <td>373</td>\n",
       "      <td>13</td>\n",
       "      <td>489.60</td>\n",
       "      <td>0</td>\n",
       "      <td>0</td>\n",
       "    </tr>\n",
       "    <tr>\n",
       "      <td>1</td>\n",
       "      <td>13747</td>\n",
       "      <td>373</td>\n",
       "      <td>1</td>\n",
       "      <td>79.60</td>\n",
       "      <td>0</td>\n",
       "      <td>0</td>\n",
       "    </tr>\n",
       "    <tr>\n",
       "      <td>2</td>\n",
       "      <td>12791</td>\n",
       "      <td>373</td>\n",
       "      <td>2</td>\n",
       "      <td>192.60</td>\n",
       "      <td>0</td>\n",
       "      <td>0</td>\n",
       "    </tr>\n",
       "    <tr>\n",
       "      <td>3</td>\n",
       "      <td>17908</td>\n",
       "      <td>373</td>\n",
       "      <td>58</td>\n",
       "      <td>243.28</td>\n",
       "      <td>0</td>\n",
       "      <td>0</td>\n",
       "    </tr>\n",
       "    <tr>\n",
       "      <td>4</td>\n",
       "      <td>16583</td>\n",
       "      <td>373</td>\n",
       "      <td>14</td>\n",
       "      <td>233.45</td>\n",
       "      <td>0</td>\n",
       "      <td>0</td>\n",
       "    </tr>\n",
       "  </tbody>\n",
       "</table>\n",
       "</div>"
      ],
      "text/plain": [
       "   CustomerID  Recency  Frequency  Revenue  RecencyScore  FrequencyScore\n",
       "0       18074      373         13   489.60             0               0\n",
       "1       13747      373          1    79.60             0               0\n",
       "2       12791      373          2   192.60             0               0\n",
       "3       17908      373         58   243.28             0               0\n",
       "4       16583      373         14   233.45             0               0"
      ]
     },
     "execution_count": 24,
     "metadata": {},
     "output_type": "execute_result"
    }
   ],
   "source": [
    "df_user.head()"
   ]
  },
  {
   "cell_type": "markdown",
   "metadata": {},
   "source": [
    "Let's also view some of the statistical metrics of the clusters."
   ]
  },
  {
   "cell_type": "code",
   "execution_count": 25,
   "metadata": {},
   "outputs": [
    {
     "data": {
      "text/html": [
       "<div>\n",
       "<style scoped>\n",
       "    .dataframe tbody tr th:only-of-type {\n",
       "        vertical-align: middle;\n",
       "    }\n",
       "\n",
       "    .dataframe tbody tr th {\n",
       "        vertical-align: top;\n",
       "    }\n",
       "\n",
       "    .dataframe thead th {\n",
       "        text-align: right;\n",
       "    }\n",
       "</style>\n",
       "<table border=\"1\" class=\"dataframe\">\n",
       "  <thead>\n",
       "    <tr style=\"text-align: right;\">\n",
       "      <th></th>\n",
       "      <th>count</th>\n",
       "      <th>mean</th>\n",
       "      <th>std</th>\n",
       "      <th>min</th>\n",
       "      <th>25%</th>\n",
       "      <th>50%</th>\n",
       "      <th>75%</th>\n",
       "      <th>max</th>\n",
       "    </tr>\n",
       "    <tr>\n",
       "      <th>FrequencyScore</th>\n",
       "      <th></th>\n",
       "      <th></th>\n",
       "      <th></th>\n",
       "      <th></th>\n",
       "      <th></th>\n",
       "      <th></th>\n",
       "      <th></th>\n",
       "      <th></th>\n",
       "    </tr>\n",
       "  </thead>\n",
       "  <tbody>\n",
       "    <tr>\n",
       "      <td>0</td>\n",
       "      <td>3862.0</td>\n",
       "      <td>49.753755</td>\n",
       "      <td>44.812998</td>\n",
       "      <td>1.0</td>\n",
       "      <td>15.0</td>\n",
       "      <td>34.0</td>\n",
       "      <td>73.0</td>\n",
       "      <td>189.0</td>\n",
       "    </tr>\n",
       "    <tr>\n",
       "      <td>1</td>\n",
       "      <td>482.0</td>\n",
       "      <td>329.105809</td>\n",
       "      <td>132.667903</td>\n",
       "      <td>190.0</td>\n",
       "      <td>228.0</td>\n",
       "      <td>286.0</td>\n",
       "      <td>393.5</td>\n",
       "      <td>803.0</td>\n",
       "    </tr>\n",
       "    <tr>\n",
       "      <td>2</td>\n",
       "      <td>24.0</td>\n",
       "      <td>1349.750000</td>\n",
       "      <td>508.637759</td>\n",
       "      <td>872.0</td>\n",
       "      <td>1003.5</td>\n",
       "      <td>1156.0</td>\n",
       "      <td>1541.0</td>\n",
       "      <td>2782.0</td>\n",
       "    </tr>\n",
       "    <tr>\n",
       "      <td>3</td>\n",
       "      <td>4.0</td>\n",
       "      <td>5914.000000</td>\n",
       "      <td>1473.845537</td>\n",
       "      <td>4642.0</td>\n",
       "      <td>5006.5</td>\n",
       "      <td>5515.5</td>\n",
       "      <td>6423.0</td>\n",
       "      <td>7983.0</td>\n",
       "    </tr>\n",
       "  </tbody>\n",
       "</table>\n",
       "</div>"
      ],
      "text/plain": [
       "                 count         mean          std     min     25%     50%  \\\n",
       "FrequencyScore                                                             \n",
       "0               3862.0    49.753755    44.812998     1.0    15.0    34.0   \n",
       "1                482.0   329.105809   132.667903   190.0   228.0   286.0   \n",
       "2                 24.0  1349.750000   508.637759   872.0  1003.5  1156.0   \n",
       "3                  4.0  5914.000000  1473.845537  4642.0  5006.5  5515.5   \n",
       "\n",
       "                   75%     max  \n",
       "FrequencyScore                  \n",
       "0                 73.0   189.0  \n",
       "1                393.5   803.0  \n",
       "2               1541.0  2782.0  \n",
       "3               6423.0  7983.0  "
      ]
     },
     "execution_count": 25,
     "metadata": {},
     "output_type": "execute_result"
    }
   ],
   "source": [
    "# See details of each cluster\n",
    "df_user.groupby('FrequencyScore')['Frequency'].describe()"
   ]
  },
  {
   "cell_type": "markdown",
   "metadata": {},
   "source": [
    "##### Segmenting the Customers based on Revenue\n",
    "\n",
    "We will now fit the model object into the revenue values in our dataframe."
   ]
  },
  {
   "cell_type": "code",
   "execution_count": 26,
   "metadata": {},
   "outputs": [
    {
     "data": {
      "text/plain": [
       "KMeans(algorithm='auto', copy_x=True, init='k-means++', max_iter=300,\n",
       "       n_clusters=4, n_init=10, n_jobs=None, precompute_distances='auto',\n",
       "       random_state=None, tol=0.0001, verbose=0)"
      ]
     },
     "execution_count": 26,
     "metadata": {},
     "output_type": "execute_result"
    }
   ],
   "source": [
    "# Fitting the model\n",
    "kmeans.fit(df_user[['Revenue']])"
   ]
  },
  {
   "cell_type": "markdown",
   "metadata": {},
   "source": [
    "Predicting the value of clusters and saving them as a new column RevenueCluster in the dataframe."
   ]
  },
  {
   "cell_type": "code",
   "execution_count": 28,
   "metadata": {},
   "outputs": [],
   "source": [
    "# Predicting the clusters using the fitted model\n",
    "df_user['RevenueCluster'] = kmeans.predict(df_user[['Revenue']])"
   ]
  },
  {
   "cell_type": "markdown",
   "metadata": {},
   "source": [
    "We have now segmented our customers based on Revenue into 4 different clusters. Let us now see the distribution of data in the 4 clusters."
   ]
  },
  {
   "cell_type": "code",
   "execution_count": 29,
   "metadata": {},
   "outputs": [
    {
     "data": {
      "text/plain": [
       "<matplotlib.axes._subplots.AxesSubplot at 0x237fd2c3f88>"
      ]
     },
     "execution_count": 29,
     "metadata": {},
     "output_type": "execute_result"
    },
    {
     "data": {
      "image/png": "[encoded data removed]",
      "text/plain": [
       "<Figure size 432x288 with 1 Axes>"
      ]
     },
     "metadata": {
      "needs_background": "light"
     },
     "output_type": "display_data"
    }
   ],
   "source": [
    "# Plotting the counst of data in each cluster\n",
    "df_user['RevenueCluster'].value_counts().plot.bar()"
   ]
  },
  {
   "cell_type": "markdown",
   "metadata": {},
   "source": [
    "We can see that the data has been distributed into different clusters namely 0,1,2,and 3. However, the K-Means Algorithm does not differentiate the ranking of clusters based on their order. We will again order them using the order_cluster function below."
   ]
  },
  {
   "cell_type": "code",
   "execution_count": 30,
   "metadata": {},
   "outputs": [],
   "source": [
    "# Order the cluster numbers\n",
    "df_user = order_cluster('RevenueCluster', 'Revenue', df_user, True)"
   ]
  },
  {
   "cell_type": "code",
   "execution_count": 31,
   "metadata": {},
   "outputs": [
    {
     "data": {
      "text/html": [
       "<div>\n",
       "<style scoped>\n",
       "    .dataframe tbody tr th:only-of-type {\n",
       "        vertical-align: middle;\n",
       "    }\n",
       "\n",
       "    .dataframe tbody tr th {\n",
       "        vertical-align: top;\n",
       "    }\n",
       "\n",
       "    .dataframe thead th {\n",
       "        text-align: right;\n",
       "    }\n",
       "</style>\n",
       "<table border=\"1\" class=\"dataframe\">\n",
       "  <thead>\n",
       "    <tr style=\"text-align: right;\">\n",
       "      <th></th>\n",
       "      <th>CustomerID</th>\n",
       "      <th>Recency</th>\n",
       "      <th>Frequency</th>\n",
       "      <th>Revenue</th>\n",
       "      <th>RecencyScore</th>\n",
       "      <th>FrequencyScore</th>\n",
       "      <th>RevenueScore</th>\n",
       "    </tr>\n",
       "  </thead>\n",
       "  <tbody>\n",
       "    <tr>\n",
       "      <td>0</td>\n",
       "      <td>18074</td>\n",
       "      <td>373</td>\n",
       "      <td>13</td>\n",
       "      <td>489.60</td>\n",
       "      <td>0</td>\n",
       "      <td>0</td>\n",
       "      <td>0</td>\n",
       "    </tr>\n",
       "    <tr>\n",
       "      <td>1</td>\n",
       "      <td>13747</td>\n",
       "      <td>373</td>\n",
       "      <td>1</td>\n",
       "      <td>79.60</td>\n",
       "      <td>0</td>\n",
       "      <td>0</td>\n",
       "      <td>0</td>\n",
       "    </tr>\n",
       "    <tr>\n",
       "      <td>2</td>\n",
       "      <td>12791</td>\n",
       "      <td>373</td>\n",
       "      <td>2</td>\n",
       "      <td>192.60</td>\n",
       "      <td>0</td>\n",
       "      <td>0</td>\n",
       "      <td>0</td>\n",
       "    </tr>\n",
       "    <tr>\n",
       "      <td>3</td>\n",
       "      <td>17908</td>\n",
       "      <td>373</td>\n",
       "      <td>58</td>\n",
       "      <td>243.28</td>\n",
       "      <td>0</td>\n",
       "      <td>0</td>\n",
       "      <td>0</td>\n",
       "    </tr>\n",
       "    <tr>\n",
       "      <td>4</td>\n",
       "      <td>16583</td>\n",
       "      <td>373</td>\n",
       "      <td>14</td>\n",
       "      <td>233.45</td>\n",
       "      <td>0</td>\n",
       "      <td>0</td>\n",
       "      <td>0</td>\n",
       "    </tr>\n",
       "  </tbody>\n",
       "</table>\n",
       "</div>"
      ],
      "text/plain": [
       "   CustomerID  Recency  Frequency  Revenue  RecencyScore  FrequencyScore  \\\n",
       "0       18074      373         13   489.60             0               0   \n",
       "1       13747      373          1    79.60             0               0   \n",
       "2       12791      373          2   192.60             0               0   \n",
       "3       17908      373         58   243.28             0               0   \n",
       "4       16583      373         14   233.45             0               0   \n",
       "\n",
       "   RevenueScore  \n",
       "0             0  \n",
       "1             0  \n",
       "2             0  \n",
       "3             0  \n",
       "4             0  "
      ]
     },
     "execution_count": 31,
     "metadata": {},
     "output_type": "execute_result"
    }
   ],
   "source": [
    "df_user.head()"
   ]
  },
  {
   "cell_type": "markdown",
   "metadata": {},
   "source": [
    "Let us also view some of the statistical metrics of the clusters."
   ]
  },
  {
   "cell_type": "code",
   "execution_count": 32,
   "metadata": {},
   "outputs": [
    {
     "data": {
      "text/html": [
       "<div>\n",
       "<style scoped>\n",
       "    .dataframe tbody tr th:only-of-type {\n",
       "        vertical-align: middle;\n",
       "    }\n",
       "\n",
       "    .dataframe tbody tr th {\n",
       "        vertical-align: top;\n",
       "    }\n",
       "\n",
       "    .dataframe thead th {\n",
       "        text-align: right;\n",
       "    }\n",
       "</style>\n",
       "<table border=\"1\" class=\"dataframe\">\n",
       "  <thead>\n",
       "    <tr style=\"text-align: right;\">\n",
       "      <th></th>\n",
       "      <th>count</th>\n",
       "      <th>mean</th>\n",
       "      <th>std</th>\n",
       "      <th>min</th>\n",
       "      <th>25%</th>\n",
       "      <th>50%</th>\n",
       "      <th>75%</th>\n",
       "      <th>max</th>\n",
       "    </tr>\n",
       "    <tr>\n",
       "      <th>RevenueScore</th>\n",
       "      <th></th>\n",
       "      <th></th>\n",
       "      <th></th>\n",
       "      <th></th>\n",
       "      <th></th>\n",
       "      <th></th>\n",
       "      <th></th>\n",
       "      <th></th>\n",
       "    </tr>\n",
       "  </thead>\n",
       "  <tbody>\n",
       "    <tr>\n",
       "      <td>0</td>\n",
       "      <td>4333.0</td>\n",
       "      <td>1463.977051</td>\n",
       "      <td>2287.153138</td>\n",
       "      <td>0.00</td>\n",
       "      <td>307.1600</td>\n",
       "      <td>669.140</td>\n",
       "      <td>1638.530</td>\n",
       "      <td>21834.77</td>\n",
       "    </tr>\n",
       "    <tr>\n",
       "      <td>1</td>\n",
       "      <td>30.0</td>\n",
       "      <td>47633.084667</td>\n",
       "      <td>18372.217546</td>\n",
       "      <td>26205.97</td>\n",
       "      <td>32635.0075</td>\n",
       "      <td>41268.655</td>\n",
       "      <td>61757.775</td>\n",
       "      <td>93999.38</td>\n",
       "    </tr>\n",
       "    <tr>\n",
       "      <td>2</td>\n",
       "      <td>6.0</td>\n",
       "      <td>144933.318333</td>\n",
       "      <td>33052.571335</td>\n",
       "      <td>111057.07</td>\n",
       "      <td>122557.2425</td>\n",
       "      <td>140235.405</td>\n",
       "      <td>154899.925</td>\n",
       "      <td>201619.41</td>\n",
       "    </tr>\n",
       "    <tr>\n",
       "      <td>3</td>\n",
       "      <td>3.0</td>\n",
       "      <td>293580.410000</td>\n",
       "      <td>38621.235867</td>\n",
       "      <td>262876.11</td>\n",
       "      <td>271899.5650</td>\n",
       "      <td>280923.020</td>\n",
       "      <td>308932.560</td>\n",
       "      <td>336942.10</td>\n",
       "    </tr>\n",
       "  </tbody>\n",
       "</table>\n",
       "</div>"
      ],
      "text/plain": [
       "               count           mean           std        min          25%  \\\n",
       "RevenueScore                                                                \n",
       "0             4333.0    1463.977051   2287.153138       0.00     307.1600   \n",
       "1               30.0   47633.084667  18372.217546   26205.97   32635.0075   \n",
       "2                6.0  144933.318333  33052.571335  111057.07  122557.2425   \n",
       "3                3.0  293580.410000  38621.235867  262876.11  271899.5650   \n",
       "\n",
       "                     50%         75%        max  \n",
       "RevenueScore                                     \n",
       "0                669.140    1638.530   21834.77  \n",
       "1              41268.655   61757.775   93999.38  \n",
       "2             140235.405  154899.925  201619.41  \n",
       "3             280923.020  308932.560  336942.10  "
      ]
     },
     "execution_count": 32,
     "metadata": {},
     "output_type": "execute_result"
    }
   ],
   "source": [
    "# Show details of the dataframe\n",
    "df_user.groupby('RevenueScore')['Revenue'].describe()"
   ]
  },
  {
   "cell_type": "markdown",
   "metadata": {},
   "source": [
    "Finally, we will combine all three values of scores to compute the Overall RFM Score of each of the customers."
   ]
  },
  {
   "cell_type": "code",
   "execution_count": 33,
   "metadata": {},
   "outputs": [],
   "source": [
    "# Calculate overall score\n",
    "df_user['OverallRFMScore'] = df_user['RecencyScore'] + df_user['FrequencyScore'] + df_user['RevenueScore']"
   ]
  },
  {
   "cell_type": "code",
   "execution_count": 36,
   "metadata": {},
   "outputs": [
    {
     "data": {
      "text/plain": [
       "array([0, 1, 2, 3, 4, 5, 6, 7, 8], dtype=int64)"
      ]
     },
     "execution_count": 36,
     "metadata": {},
     "output_type": "execute_result"
    }
   ],
   "source": [
    "# Printing the unique elements\n",
    "df_user['OverallRFMScore'].unique()"
   ]
  },
  {
   "cell_type": "markdown",
   "metadata": {},
   "source": [
    "We have 9 different scores for out data. Let us also see the data distribution in these scores."
   ]
  },
  {
   "cell_type": "code",
   "execution_count": 37,
   "metadata": {},
   "outputs": [
    {
     "data": {
      "text/plain": [
       "<matplotlib.axes._subplots.AxesSubplot at 0x237fd35ed48>"
      ]
     },
     "execution_count": 37,
     "metadata": {},
     "output_type": "execute_result"
    },
    {
     "data": {
      "image/png": "[encoded data removed]",
      "text/plain": [
       "<Figure size 432x288 with 1 Axes>"
      ]
     },
     "metadata": {
      "needs_background": "light"
     },
     "output_type": "display_data"
    }
   ],
   "source": [
    "# Plotting a bar plot\n",
    "df_user['OverallRFMScore'].value_counts().plot.bar()"
   ]
  },
  {
   "cell_type": "markdown",
   "metadata": {},
   "source": [
    "Let us also see what the mean values of each Recency, Frequency, and Revenue are for the Overall Scores."
   ]
  },
  {
   "cell_type": "code",
   "execution_count": 38,
   "metadata": {},
   "outputs": [
    {
     "data": {
      "text/html": [
       "<div>\n",
       "<style scoped>\n",
       "    .dataframe tbody tr th:only-of-type {\n",
       "        vertical-align: middle;\n",
       "    }\n",
       "\n",
       "    .dataframe tbody tr th {\n",
       "        vertical-align: top;\n",
       "    }\n",
       "\n",
       "    .dataframe thead th {\n",
       "        text-align: right;\n",
       "    }\n",
       "</style>\n",
       "<table border=\"1\" class=\"dataframe\">\n",
       "  <thead>\n",
       "    <tr style=\"text-align: right;\">\n",
       "      <th></th>\n",
       "      <th>Recency</th>\n",
       "      <th>Frequency</th>\n",
       "      <th>Revenue</th>\n",
       "    </tr>\n",
       "    <tr>\n",
       "      <th>OverallRFMScore</th>\n",
       "      <th></th>\n",
       "      <th></th>\n",
       "      <th></th>\n",
       "    </tr>\n",
       "  </thead>\n",
       "  <tbody>\n",
       "    <tr>\n",
       "      <td>0</td>\n",
       "      <td>305.335835</td>\n",
       "      <td>22.223265</td>\n",
       "      <td>391.072927</td>\n",
       "    </tr>\n",
       "    <tr>\n",
       "      <td>1</td>\n",
       "      <td>185.136808</td>\n",
       "      <td>33.646580</td>\n",
       "      <td>628.201435</td>\n",
       "    </tr>\n",
       "    <tr>\n",
       "      <td>2</td>\n",
       "      <td>78.973735</td>\n",
       "      <td>47.052529</td>\n",
       "      <td>1261.142414</td>\n",
       "    </tr>\n",
       "    <tr>\n",
       "      <td>3</td>\n",
       "      <td>20.210313</td>\n",
       "      <td>71.219583</td>\n",
       "      <td>1442.585186</td>\n",
       "    </tr>\n",
       "    <tr>\n",
       "      <td>4</td>\n",
       "      <td>12.434272</td>\n",
       "      <td>329.495305</td>\n",
       "      <td>5796.577254</td>\n",
       "    </tr>\n",
       "    <tr>\n",
       "      <td>5</td>\n",
       "      <td>6.448276</td>\n",
       "      <td>880.620690</td>\n",
       "      <td>21600.481379</td>\n",
       "    </tr>\n",
       "    <tr>\n",
       "      <td>6</td>\n",
       "      <td>8.222222</td>\n",
       "      <td>1059.111111</td>\n",
       "      <td>119222.916667</td>\n",
       "    </tr>\n",
       "    <tr>\n",
       "      <td>7</td>\n",
       "      <td>2.600000</td>\n",
       "      <td>3921.200000</td>\n",
       "      <td>107493.924000</td>\n",
       "    </tr>\n",
       "    <tr>\n",
       "      <td>8</td>\n",
       "      <td>0.500000</td>\n",
       "      <td>3994.000000</td>\n",
       "      <td>218000.260000</td>\n",
       "    </tr>\n",
       "  </tbody>\n",
       "</table>\n",
       "</div>"
      ],
      "text/plain": [
       "                    Recency    Frequency        Revenue\n",
       "OverallRFMScore                                        \n",
       "0                305.335835    22.223265     391.072927\n",
       "1                185.136808    33.646580     628.201435\n",
       "2                 78.973735    47.052529    1261.142414\n",
       "3                 20.210313    71.219583    1442.585186\n",
       "4                 12.434272   329.495305    5796.577254\n",
       "5                  6.448276   880.620690   21600.481379\n",
       "6                  8.222222  1059.111111  119222.916667\n",
       "7                  2.600000  3921.200000  107493.924000\n",
       "8                  0.500000  3994.000000  218000.260000"
      ]
     },
     "execution_count": 38,
     "metadata": {},
     "output_type": "execute_result"
    }
   ],
   "source": [
    "# Grouping by the OverallRFMScore column and getting the mean\n",
    "df_user.groupby('OverallRFMScore')['Recency','Frequency','Revenue'].mean()"
   ]
  },
  {
   "cell_type": "markdown",
   "metadata": {},
   "source": [
    "The majority of data values seem to have a RFM Score of 3, followed by 2 and 1.\n",
    "- A low RFM Score means that the customers have a low value of recency, are less frequent, and generate low revenue.\n",
    "- A high RFM score means that the customers have a high value of recency, are more frequent, and generate higher value of revenue to us."
   ]
  },
  {
   "cell_type": "markdown",
   "metadata": {},
   "source": [
    "###### Segmenting Customers based on Overall RFM Score\n",
    "We will now segment the customers into three groups based on overall RFM score.\n",
    "- Low-value\n",
    "- Mid-value\n",
    "- High-value"
   ]
  },
  {
   "cell_type": "code",
   "execution_count": 47,
   "metadata": {},
   "outputs": [],
   "source": [
    "# Segment the customers based on overall score\n",
    "df_user['Segment'] = 'Low-Value'\n",
    "df_user.loc[df_user['OverallRFMScore']>2, 'Segment'] = 'Mid-Value'\n",
    "df_user.loc[df_user['OverallRFMScore']>4, 'Segment'] = 'High-Value'"
   ]
  },
  {
   "cell_type": "code",
   "execution_count": 40,
   "metadata": {},
   "outputs": [
    {
     "data": {
      "text/plain": [
       "<matplotlib.axes._subplots.AxesSubplot at 0x237fd3ffb48>"
      ]
     },
     "execution_count": 40,
     "metadata": {},
     "output_type": "execute_result"
    },
    {
     "data": {
      "image/png": "[encoded data removed]",
      "text/plain": [
       "<Figure size 432x288 with 1 Axes>"
      ]
     },
     "metadata": {
      "needs_background": "light"
     },
     "output_type": "display_data"
    }
   ],
   "source": [
    "# Plotting a bar plot\n",
    "df_user['Segment'].value_counts().plot.bar()"
   ]
  },
  {
   "cell_type": "markdown",
   "metadata": {},
   "source": [
    "It cab be seen that we have a large amount of low and mid-value customers but very less amount of high-value customers. This segmentation can help us determine the kind of strategies and approaches needed for improving sales and profit, which will allow us to increase the amount of high-value customers and their retention."
   ]
  },
  {
   "cell_type": "markdown",
   "metadata": {},
   "source": [
    "Finally, let us plot the customer groups and view their segmentations visually.\n",
    "\n",
    "###### Frequency vs Revenue"
   ]
  },
  {
   "cell_type": "code",
   "execution_count": 48,
   "metadata": {},
   "outputs": [
    {
     "data": {
      "text/plain": [
       "Text(0, 0.5, 'Revenue')"
      ]
     },
     "execution_count": 48,
     "metadata": {},
     "output_type": "execute_result"
    },
    {
     "data": {
      "image/png": "[encoded data removed]",
      "text/plain": [
       "<Figure size 432x288 with 1 Axes>"
      ]
     },
     "metadata": {
      "needs_background": "light"
     },
     "output_type": "display_data"
    }
   ],
   "source": [
    "# scatter plot for low-value\n",
    "plt.scatter(x=df_user.query(\"Segment == 'Low-Value'\")['Frequency'], y = df_user.query(\"Segment == 'Low-Value'\")['Revenue'], label=\"Low-value\")\n",
    "\n",
    "# Scatter plot for mid-value\n",
    "plt.scatter(x=df_user.query(\"Segment == 'Mid-Value'\")['Frequency'], y = df_user.query(\"Segment == 'Mid-Value'\")['Revenue'], label=\"Mid-value\")\n",
    "\n",
    "# Scatter plot for high-value\n",
    "plt.scatter(x=df_user.query(\"Segment == 'High-Value'\")['Frequency'], y = df_user.query(\"Segment == 'High-Value'\")['Revenue'], label=\"High-value\")\n",
    "\n",
    "# Making the plot easier to look at\n",
    "plt.legend(loc=\"upper right\")\n",
    "plt.title(\"Frequency vs Revenue Segmentation\")\n",
    "plt.xlabel(\"Frequency\")\n",
    "plt.ylabel(\"Revenue\")"
   ]
  },
  {
   "cell_type": "markdown",
   "metadata": {},
   "source": [
    "###### Recency vs Revenue"
   ]
  },
  {
   "cell_type": "code",
   "execution_count": 49,
   "metadata": {},
   "outputs": [
    {
     "data": {
      "text/plain": [
       "Text(0, 0.5, 'Revenue')"
      ]
     },
     "execution_count": 49,
     "metadata": {},
     "output_type": "execute_result"
    },
    {
     "data": {
      "image/png": "[encoded data removed]",
      "text/plain": [
       "<Figure size 432x288 with 1 Axes>"
      ]
     },
     "metadata": {
      "needs_background": "light"
     },
     "output_type": "display_data"
    }
   ],
   "source": [
    "# Scatter plot for low-value\n",
    "plt.scatter(x=df_user.query(\"Segment == 'Low-Value'\")[\"Recency\"], y=df_user.query(\"Segment == 'Low-Value'\")['Revenue'], label=\"Low-value\")\n",
    "\n",
    "# Scatter plot for mid-value\n",
    "plt.scatter(x=df_user.query(\"Segment == 'Mid-Value'\")[\"Recency\"], y=df_user.query(\"Segment == 'Mid-Value'\")['Revenue'], label=\"Mid-value\")\n",
    "\n",
    "# Scatter plot for high-value\n",
    "plt.scatter(x=df_user.query(\"Segment == 'High-Value'\")[\"Recency\"], y=df_user.query(\"Segment == 'High-Value'\")['Revenue'], label=\"High-value\")\n",
    "\n",
    "# Making the plot easier to look at\n",
    "plt.legend(loc=\"upper right\")\n",
    "plt.title(\"Recency vs Revenue Segmentation\")\n",
    "plt.xlabel(\"Recency\")\n",
    "plt.ylabel(\"Revenue\")"
   ]
  },
  {
   "cell_type": "markdown",
   "metadata": {},
   "source": [
    "###### Recency vs Frequency"
   ]
  },
  {
   "cell_type": "code",
   "execution_count": 51,
   "metadata": {},
   "outputs": [
    {
     "data": {
      "text/plain": [
       "Text(0, 0.5, 'Frequency')"
      ]
     },
     "execution_count": 51,
     "metadata": {},
     "output_type": "execute_result"
    },
    {
     "data": {
      "image/png": "[encoded data removed]",
      "text/plain": [
       "<Figure size 432x288 with 1 Axes>"
      ]
     },
     "metadata": {
      "needs_background": "light"
     },
     "output_type": "display_data"
    }
   ],
   "source": [
    "# Scatter plot for low-value\n",
    "plt.scatter(x=df_user.query(\"Segment == 'Low-Value'\")[\"Recency\"], y=df_user.query(\"Segment == 'Low-Value'\")['Frequency'], label=\"Low-value\")\n",
    "\n",
    "# Scatter plot for mid-value\n",
    "plt.scatter(x=df_user.query(\"Segment == 'Mid-Value'\")[\"Recency\"], y=df_user.query(\"Segment == 'Mid-Value'\")['Frequency'], label=\"Mid-value\")\n",
    "\n",
    "# Scatter plot for mid-value\n",
    "plt.scatter(x=df_user.query(\"Segment == 'High-Value'\")[\"Recency\"], y=df_user.query(\"Segment == 'High-Value'\")['Frequency'], label=\"High-value\")\n",
    "\n",
    "# Making the plot easier to look at\n",
    "plt.legend(loc=\"upper right\")\n",
    "plt.title(\"Recency vs Frequency Segmentation\")\n",
    "plt.xlabel(\"Recency\")\n",
    "plt.ylabel(\"Frequency\")"
   ]
  },
  {
   "cell_type": "markdown",
   "metadata": {},
   "source": [
    "###### Revenue vs Frequency"
   ]
  },
  {
   "cell_type": "code",
   "execution_count": 52,
   "metadata": {},
   "outputs": [
    {
     "data": {
      "text/plain": [
       "Text(0, 0.5, 'Frequency')"
      ]
     },
     "execution_count": 52,
     "metadata": {},
     "output_type": "execute_result"
    },
    {
     "data": {
      "image/png": "[encoded data removed]",
      "text/plain": [
       "<Figure size 432x288 with 1 Axes>"
      ]
     },
     "metadata": {
      "needs_background": "light"
     },
     "output_type": "display_data"
    }
   ],
   "source": [
    "# Scatter plot for low-value\n",
    "plt.scatter(x=df_user.query(\"Segment == 'Low-Value'\")[\"Revenue\"], y=df_user.query(\"Segment == 'Low-Value'\")['Frequency'], label=\"Low-value\")\n",
    "\n",
    "# Scatter plot for mid-value\n",
    "plt.scatter(x=df_user.query(\"Segment == 'Mid-Value'\")[\"Revenue\"], y=df_user.query(\"Segment == 'Mid-Value'\")['Frequency'], label=\"Mid-value\")\n",
    "\n",
    "# Scatter plot for mid-value\n",
    "plt.scatter(x=df_user.query(\"Segment == 'High-Value'\")[\"Revenue\"], y=df_user.query(\"Segment == 'High-Value'\")['Frequency'], label=\"High-value\")\n",
    "\n",
    "# Making the plot easier to look at\n",
    "plt.legend(loc=\"upper right\")\n",
    "plt.title(\"Revenue vs Frequency Segmentation\")\n",
    "plt.xlabel(\"Revenue\")\n",
    "plt.ylabel(\"Frequency\")"
   ]
  },
  {
   "cell_type": "markdown",
   "metadata": {},
   "source": [
    "Hence, we've successfully segmented our customers and these segments can how help us in various processes of building the business such as sales and marketing."
   ]
  },
  {
   "cell_type": "code",
   "execution_count": null,
   "metadata": {},
   "outputs": [],
   "source": []
  }
 ],
 "metadata": {
  "kernelspec": {
   "display_name": "Python 3",
   "language": "python",
   "name": "python3"
  },
  "language_info": {
   "codemirror_mode": {
    "name": "ipython",
    "version": 3
   },
   "file_extension": ".py",
   "mimetype": "text/x-python",
   "name": "python",
   "nbconvert_exporter": "python",
   "pygments_lexer": "ipython3",
   "version": "3.7.4"
  }
 },
 "nbformat": 4,
 "nbformat_minor": 2
}
